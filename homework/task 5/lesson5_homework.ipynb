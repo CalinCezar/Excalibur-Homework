{
  "cells": [
    {
      "cell_type": "code",
      "execution_count": 179,
      "metadata": {
        "id": "4LgBJlZj_6ww"
      },
      "outputs": [],
      "source": [
        "# make sure you have the latest version of sigmoid_check installed with !pip install sigmoid_check --upgrade\n",
        "from sigmoid_check.excalibur import *\n",
        "import pandas as pd"
      ]
    },
    {
      "cell_type": "code",
      "execution_count": 180,
      "metadata": {
        "id": "eKhW5CZB_6wy",
        "outputId": "f395b3e2-210e-4380-8d72-dd4ce5294a0e"
      },
      "outputs": [
        {
          "name": "stdout",
          "output_type": "stream",
          "text": [
            "✅ Great job! Exercise completed successfully.\n"
          ]
        }
      ],
      "source": [
        "# Given a list of dictionaries `data`, create a pandas DataFrame named `df_from_dict`.\n",
        "@check_pandas_1\n",
        "def pandas_1(data):\n",
        "    # This line is mandatory and should not be removed.\n",
        "    ex_stat_init = True\n",
        "\n",
        "    # BELOW GOES YOUR CODE\n",
        "    df_from_dict = pd.DataFrame(data)\n",
        "    # ABOVE GOES YOUR CODE\n",
        "    return {\"df_from_dict\": df_from_dict}\n",
        "\n",
        "pandas_1()"
      ]
    },
    {
      "cell_type": "code",
      "execution_count": 181,
      "metadata": {
        "id": "AhSqGzet_6wy",
        "outputId": "0da17046-4828-4668-99e5-464cf53ac1c4"
      },
      "outputs": [
        {
          "name": "stdout",
          "output_type": "stream",
          "text": [
            "✅ Great job! Exercise completed successfully.\n"
          ]
        }
      ],
      "source": [
        "# Create a pandas Series named `series_from_list` from a list of floats `float_list`, with no index specified.\n",
        "@check_pandas_2\n",
        "def pandas_2(float_list):\n",
        "    # This line is mandatory and should not be removed.\n",
        "    ex_stat_init = True\n",
        "\n",
        "    # BELOW GOES YOUR CODE\n",
        "    series_from_list = pd.Series(float_list)\n",
        "    # ABOVE GOES YOUR CODE\n",
        "    return {\"series_from_list\": series_from_list}\n",
        "\n",
        "pandas_2()"
      ]
    },
    {
      "cell_type": "code",
      "execution_count": 182,
      "metadata": {
        "id": "7G4ih1xk_6wz",
        "outputId": "6beda92d-8ee7-4a56-9662-b4e9526c7c09"
      },
      "outputs": [
        {
          "name": "stdout",
          "output_type": "stream",
          "text": [
            "✅ Great job! Exercise completed successfully.\n"
          ]
        }
      ],
      "source": [
        "# Given a dictionary `dict_data` containing country names as keys and populations as values, create a pandas Series named `country_population`, using the dictionary keys as index.\n",
        "@check_pandas_3\n",
        "def pandas_3(dict_data):\n",
        "    # This line is mandatory and should not be removed.\n",
        "    ex_stat_init = True\n",
        "\n",
        "    # BELOW GOES YOUR CODE\n",
        "    country_population = pd.Series(dict_data)\n",
        "    # ABOVE GOES YOUR CODE\n",
        "    return {\"country_population\": country_population}\n",
        "\n",
        "pandas_3()"
      ]
    },
    {
      "cell_type": "code",
      "execution_count": 183,
      "metadata": {
        "id": "frEghb5i_6w0",
        "outputId": "e2ed03fa-aa0e-445c-ceef-54daba3759b5"
      },
      "outputs": [
        {
          "name": "stdout",
          "output_type": "stream",
          "text": [
            "✅ Great job! Exercise completed successfully.\n"
          ]
        }
      ],
      "source": [
        "# From a pandas Series `series_population`, access the index and save it in a variable `population_index`.\n",
        "@check_pandas_4\n",
        "def pandas_4(series_population):\n",
        "    # This line is mandatory and should not be removed.\n",
        "    ex_stat_init = True\n",
        "\n",
        "    # BELOW GOES YOUR CODE\n",
        "    population_index = series_population.index\n",
        "    # ABOVE GOES YOUR CODE\n",
        "    return {\"population_index\": population_index}\n",
        "\n",
        "pandas_4()"
      ]
    },
    {
      "cell_type": "code",
      "execution_count": 184,
      "metadata": {
        "id": "OuXsCLYY_6w1",
        "outputId": "21f1229e-e466-42a9-efec-ea25bcf832a3"
      },
      "outputs": [
        {
          "name": "stdout",
          "output_type": "stream",
          "text": [
            "✅ Great job! Exercise completed successfully.\n"
          ]
        }
      ],
      "source": [
        "# Using a pandas Series `series_temperatures`, extract the values and store them in a variable `temperature_values`.\n",
        "@check_pandas_5\n",
        "def pandas_5(series_temperatures):\n",
        "    # This line is mandatory and should not be removed.\n",
        "    ex_stat_init = True\n",
        "\n",
        "    # BELOW GOES YOUR CODE\n",
        "    temperature_values = series_temperatures.values\n",
        "    # ABOVE GOES YOUR CODE\n",
        "    return {\"temperature_values\": temperature_values}\n",
        "\n",
        "pandas_5()"
      ]
    },
    {
      "cell_type": "code",
      "execution_count": 185,
      "metadata": {
        "id": "U_UeNoQ__6w1",
        "outputId": "1acce371-6263-4c32-eea3-4964aff4eb79"
      },
      "outputs": [
        {
          "name": "stdout",
          "output_type": "stream",
          "text": [
            "✅ Great job! Exercise completed successfully.\n"
          ]
        }
      ],
      "source": [
        "# For a pandas Series `series_ages`, get the data type of the elements in the series and store it in a variable `ages_dtype`.\n",
        "@check_pandas_6\n",
        "def pandas_6(series_ages):\n",
        "    # This line is mandatory and should not be removed.\n",
        "    ex_stat_init = True\n",
        "\n",
        "    # BELOW GOES YOUR CODE\n",
        "    ages_dtype = series_ages.dtype\n",
        "    # ABOVE GOES YOUR CODE\n",
        "    return {\"ages_dtype\": ages_dtype}\n",
        "\n",
        "pandas_6()"
      ]
    },
    {
      "cell_type": "code",
      "execution_count": 186,
      "metadata": {
        "id": "swXCY7ys_6w1",
        "outputId": "fd009cb7-25b7-4c6e-dab9-43912f3ec816"
      },
      "outputs": [
        {
          "name": "stdout",
          "output_type": "stream",
          "text": [
            "✅ Great job! Exercise completed successfully.\n"
          ]
        }
      ],
      "source": [
        "# From a Series `series_custom_index` with a custom index, access the element with index 'A' and store it in a variable `element_A`.\n",
        "@check_pandas_7\n",
        "def pandas_7(series_custom_index):\n",
        "    # This line is mandatory and should not be removed.\n",
        "    ex_stat_init = True\n",
        "\n",
        "    # BELOW GOES YOUR CODE\n",
        "    element_A = series_custom_index['A']\n",
        "    # ABOVE GOES YOUR CODE\n",
        "    return {\"element_A\": element_A}\n",
        "\n",
        "pandas_7()"
      ]
    },
    {
      "cell_type": "code",
      "execution_count": 187,
      "metadata": {
        "id": "TXDX6YGj_6w2",
        "outputId": "e92a2378-ece3-4793-cbd3-db43e0c4bac4"
      },
      "outputs": [
        {
          "name": "stdout",
          "output_type": "stream",
          "text": [
            "✅ Great job! Exercise completed successfully.\n"
          ]
        }
      ],
      "source": [
        "# Using a pandas Series `series_items`, slice the series to contain elements with indices from 'b' to 'd', inclusive, and save it into `sliced_series`.\n",
        "@check_pandas_8\n",
        "def pandas_8(series_items):\n",
        "    # This line is mandatory and should not be removed.\n",
        "    ex_stat_init = True\n",
        "\n",
        "    # BELOW GOES YOUR CODE\n",
        "    sliced_series = series_items['b':'d']\n",
        "    # ABOVE GOES YOUR CODE\n",
        "    return {\"sliced_series\": sliced_series}\n",
        "\n",
        "pandas_8()"
      ]
    },
    {
      "cell_type": "code",
      "execution_count": 188,
      "metadata": {
        "id": "H4zzKjdV_6w3",
        "outputId": "31cdcc12-cc13-4966-a894-7ca0f8fb52fc"
      },
      "outputs": [
        {
          "name": "stdout",
          "output_type": "stream",
          "text": [
            "✅ Great job! Exercise completed successfully.\n"
          ]
        }
      ],
      "source": [
        "# From a Series `series_prices`, select elements with custom indices ['apple', 'banana', 'cherry'] and store them in `selected_prices`.\n",
        "@check_pandas_9\n",
        "def pandas_9(series_prices):\n",
        "    # This line is mandatory and should not be removed.\n",
        "    ex_stat_init = True\n",
        "\n",
        "    # BELOW GOES YOUR CODE\n",
        "    selected_prices = series_prices[['apple', 'banana', 'cherry']]\n",
        "    # ABOVE GOES YOUR CODE\n",
        "    return {\"selected_prices\": selected_prices}\n",
        "\n",
        "pandas_9()"
      ]
    },
    {
      "cell_type": "code",
      "execution_count": 189,
      "metadata": {
        "id": "0lvRbq5s_6w3",
        "outputId": "f968fdda-2690-42a7-99c2-afeaff39e204"
      },
      "outputs": [
        {
          "name": "stdout",
          "output_type": "stream",
          "text": [
            "✅ Great job! Exercise completed successfully.\n"
          ]
        }
      ],
      "source": [
        "# Create a DataFrame `df_custom` from a list of lists `list_of_lists_data`, ensuring to label the columns as 'A', 'B', 'C'.\n",
        "@check_pandas_10\n",
        "def pandas_10(list_of_lists_data):\n",
        "    # This line is mandatory and should not be removed.\n",
        "    ex_stat_init = True\n",
        "\n",
        "    # BELOW GOES YOUR CODE\n",
        "    df_custom = pd.DataFrame(list_of_lists_data, columns=['A', 'B', 'C'])\n",
        "    # ABOVE GOES YOUR CODE\n",
        "    return {\"df_custom\": df_custom}\n",
        "\n",
        "pandas_10()"
      ]
    },
    {
      "cell_type": "code",
      "execution_count": 190,
      "metadata": {
        "id": "yryJRN7K_6w4",
        "outputId": "a384a4ce-5b74-4014-c350-f600a70822e2"
      },
      "outputs": [
        {
          "name": "stdout",
          "output_type": "stream",
          "text": [
            "✅ Great job! Exercise completed successfully.\n"
          ]
        }
      ],
      "source": [
        "# Given a list of tuples `data_tuples`, create a DataFrame named `df_from_tuples` and rename its columns to 'X', 'Y', 'Z'.\n",
        "@check_pandas_11\n",
        "def pandas_11(data_tuples):\n",
        "    # This line is mandatory and should not be removed.\n",
        "    ex_stat_init = True\n",
        "\n",
        "    # BELOW GOES YOUR CODE\n",
        "    df_from_tuples = pd.DataFrame(data_tuples, columns=['X', 'Y', 'Z'])\n",
        "    # ABOVE GOES YOUR CODE\n",
        "    return {\"df_from_tuples\": df_from_tuples}\n",
        "\n",
        "pandas_11()"
      ]
    },
    {
      "cell_type": "code",
      "execution_count": 191,
      "metadata": {
        "id": "nWpr-JiE_6w4",
        "outputId": "484d3cba-d262-4d33-9e5d-6d2bc6440e62"
      },
      "outputs": [
        {
          "name": "stdout",
          "output_type": "stream",
          "text": [
            "✅ Great job! Exercise completed successfully.\n"
          ]
        }
      ],
      "source": [
        "# Using DataFrame `df_sales`, access and store the column names in variable `sales_columns`.\n",
        "@check_pandas_12\n",
        "def pandas_12(df_sales):\n",
        "    # This line is mandatory and should not be removed.\n",
        "    ex_stat_init = True\n",
        "\n",
        "    # BELOW GOES YOUR CODE\n",
        "    sales_columns = df_sales.columns\n",
        "    # ABOVE GOES YOUR CODE\n",
        "    return {\"sales_columns\": sales_columns}\n",
        "\n",
        "pandas_12()"
      ]
    },
    {
      "cell_type": "code",
      "execution_count": 192,
      "metadata": {
        "id": "_Tj_FVbB_6w5",
        "outputId": "a0be6a2b-3420-4a1f-b161-ec31b2ecfade"
      },
      "outputs": [
        {
          "name": "stdout",
          "output_type": "stream",
          "text": [
            "✅ Great job! Exercise completed successfully.\n"
          ]
        }
      ],
      "source": [
        "# Store the index of the DataFrame `df_employees` in a variable `employees_index`.\n",
        "@check_pandas_13\n",
        "def pandas_13(df_employees):\n",
        "    # This line is mandatory and should not be removed.\n",
        "    ex_stat_init = True\n",
        "\n",
        "    # BELOW GOES YOUR CODE\n",
        "    employees_index = df_employees.index\n",
        "    # ABOVE GOES YOUR CODE\n",
        "    return {\"employees_index\": employees_index}\n",
        "\n",
        "pandas_13()"
      ]
    },
    {
      "cell_type": "code",
      "execution_count": 193,
      "metadata": {
        "id": "5_MQ4Z5w_6w6",
        "outputId": "6e91a725-a60f-4b5c-c309-13efdd3f4524"
      },
      "outputs": [
        {
          "name": "stdout",
          "output_type": "stream",
          "text": [
            "✅ Great job! Exercise completed successfully.\n"
          ]
        }
      ],
      "source": [
        "# Retrieve the values from DataFrame `df_weather` and save them into `weather_values`.\n",
        "@check_pandas_14\n",
        "def pandas_14(df_weather):\n",
        "    # This line is mandatory and should not be removed.\n",
        "    ex_stat_init = True\n",
        "\n",
        "    # BELOW GOES YOUR CODE\n",
        "    weather_values = df_weather.values\n",
        "    # ABOVE GOES YOUR CODE\n",
        "    return {\"weather_values\": weather_values}\n",
        "\n",
        "pandas_14()"
      ]
    },
    {
      "cell_type": "code",
      "execution_count": 194,
      "metadata": {
        "id": "TGZGTHpT_6w7",
        "outputId": "d7de8bdf-3b1a-41a4-e5a3-f9063b509528"
      },
      "outputs": [
        {
          "name": "stdout",
          "output_type": "stream",
          "text": [
            "✅ Great job! Exercise completed successfully.\n"
          ]
        }
      ],
      "source": [
        "# Determine the shape of the DataFrame `df_financials` and store it in a variable `financials_shape`.\n",
        "@check_pandas_15\n",
        "def pandas_15(df_financials):\n",
        "    # This line is mandatory and should not be removed.\n",
        "    ex_stat_init = True\n",
        "\n",
        "    # BELOW GOES YOUR CODE\n",
        "    financials_shape = df_financials.shape\n",
        "    # ABOVE GOES YOUR CODE\n",
        "    return {\"financials_shape\": financials_shape}\n",
        "\n",
        "pandas_15()"
      ]
    },
    {
      "cell_type": "code",
      "execution_count": 195,
      "metadata": {
        "id": "6m9a6Kje_6w8",
        "outputId": "98a85fed-7225-49f0-81ed-4c750de1340c"
      },
      "outputs": [
        {
          "name": "stdout",
          "output_type": "stream",
          "text": [
            "✅ Great job! Exercise completed successfully.\n"
          ]
        }
      ],
      "source": [
        "# Get the data types of each column in DataFrame `df_customer_info` and store them in a variable `customer_info_dtypes`.\n",
        "@check_pandas_16\n",
        "def pandas_16(df_customer_info):\n",
        "    # This line is mandatory and should not be removed.\n",
        "    ex_stat_init = True\n",
        "\n",
        "    # BELOW GOES YOUR CODE\n",
        "    customer_info_dtypes = df_customer_info.dtypes\n",
        "    # ABOVE GOES YOUR CODE\n",
        "    return {\"customer_info_dtypes\": customer_info_dtypes}\n",
        "\n",
        "pandas_16()"
      ]
    },
    {
      "cell_type": "code",
      "execution_count": 196,
      "metadata": {
        "id": "tuX7R4_q_6w8",
        "outputId": "33cb5617-1e8a-4fa0-eb65-081397f67081"
      },
      "outputs": [
        {
          "name": "stdout",
          "output_type": "stream",
          "text": [
            "✅ Great job! Exercise completed successfully.\n"
          ]
        }
      ],
      "source": [
        "# Using the DataFrame `df_transactions`, get the first 5 rows and store them in `transactions_head`.\n",
        "@check_pandas_17\n",
        "def pandas_17(df_transactions):\n",
        "    # This line is mandatory and should not be removed.\n",
        "    ex_stat_init = True\n",
        "\n",
        "    # BELOW GOES YOUR CODE\n",
        "    transactions_head = df_transactions.head(5)\n",
        "    # ABOVE GOES YOUR CODE\n",
        "    return {\"transactions_head\": transactions_head}\n",
        "\n",
        "pandas_17()"
      ]
    },
    {
      "cell_type": "code",
      "execution_count": 197,
      "metadata": {
        "id": "nwmJ8ngq_6w-",
        "outputId": "80b35ac7-a173-4c20-ad71-a6c516acb6ae"
      },
      "outputs": [
        {
          "name": "stdout",
          "output_type": "stream",
          "text": [
            "✅ Great job! Exercise completed successfully.\n"
          ]
        }
      ],
      "source": [
        "# Retrieve the last 3 rows from DataFrame `df_activities` and save them into `activities_tail`.\n",
        "@check_pandas_18\n",
        "def pandas_18(df_activities):\n",
        "    # This line is mandatory and should not be removed.\n",
        "    ex_stat_init = True\n",
        "\n",
        "    # BELOW GOES YOUR CODE\n",
        "    activities_tail = df_activities.tail(3)\n",
        "    # ABOVE GOES YOUR CODE\n",
        "    return {\"activities_tail\": activities_tail}\n",
        "\n",
        "pandas_18()"
      ]
    },
    {
      "cell_type": "code",
      "execution_count": 198,
      "metadata": {
        "id": "MAnbA8NW_6w-",
        "outputId": "97fa2ebb-ac89-4472-bfc9-0c2debd6f975"
      },
      "outputs": [
        {
          "name": "stdout",
          "output_type": "stream",
          "text": [
            "<class 'pandas.core.frame.DataFrame'>\n",
            "RangeIndex: 3 entries, 0 to 2\n",
            "Data columns (total 2 columns):\n",
            " #   Column    Non-Null Count  Dtype \n",
            "---  ------    --------------  ----- \n",
            " 0   Product   3 non-null      object\n",
            " 1   Quantity  3 non-null      int64 \n",
            "dtypes: int64(1), object(1)\n",
            "memory usage: 180.0+ bytes\n",
            "✅ Great job! Exercise completed successfully.\n"
          ]
        }
      ],
      "source": [
        "# Get a summary of information about DataFrame `df_inventory`, storing the result in a variable `inventory_info`.\n",
        "@check_pandas_19\n",
        "def pandas_19(df_inventory):\n",
        "    # This line is mandatory and should not be removed.\n",
        "    ex_stat_init = True\n",
        "\n",
        "    # BELOW GOES YOUR CODE\n",
        "    inventory_info = df_inventory.info()\n",
        "    # ABOVE GOES YOUR CODE\n",
        "    return {\"inventory_info\": inventory_info}\n",
        "\n",
        "pandas_19()"
      ]
    },
    {
      "cell_type": "code",
      "execution_count": 199,
      "metadata": {
        "id": "qVeQ8Bny_6w_",
        "outputId": "838df395-17f3-4a96-bf62-76004b3f2c7c"
      },
      "outputs": [
        {
          "name": "stdout",
          "output_type": "stream",
          "text": [
            "✅ Great job! Exercise completed successfully.\n"
          ]
        }
      ],
      "source": [
        "# For the DataFrame `df_scores`, generate descriptive statistics and store them in `scores_statistics`.\n",
        "@check_pandas_20\n",
        "def pandas_20(df_scores):\n",
        "    # This line is mandatory and should not be removed.\n",
        "    ex_stat_init = True\n",
        "\n",
        "    # BELOW GOES YOUR CODE\n",
        "    scores_statistics = df_scores.describe()\n",
        "    # ABOVE GOES YOUR CODE\n",
        "    return {\"scores_statistics\": scores_statistics}\n",
        "\n",
        "pandas_20()"
      ]
    },
    {
      "cell_type": "code",
      "execution_count": 200,
      "metadata": {
        "id": "89aHBZkn_6xB",
        "outputId": "8a72c6fa-d107-446d-bfae-53dc132bea63"
      },
      "outputs": [
        {
          "name": "stdout",
          "output_type": "stream",
          "text": [
            "✅ Great job! Exercise completed successfully.\n"
          ]
        }
      ],
      "source": [
        "# Use DataFrame `df_orders` to create a boolean mask `orders_non_missing`, detecting non-missing values.\n",
        "@check_pandas_21\n",
        "def pandas_21(df_orders):\n",
        "    # This line is mandatory and should not be removed.\n",
        "    ex_stat_init = True\n",
        "\n",
        "    # BELOW GOES YOUR CODE\n",
        "    orders_non_missing = df_orders.notna()\n",
        "    # ABOVE GOES YOUR CODE\n",
        "    return {\"orders_non_missing\": orders_non_missing}\n",
        "\n",
        "pandas_21()"
      ]
    },
    {
      "cell_type": "code",
      "execution_count": 201,
      "metadata": {
        "id": "5ENpMLXs_6xC",
        "outputId": "cf1dd2f4-2f26-42d9-fffc-4f2e7882337f"
      },
      "outputs": [
        {
          "name": "stdout",
          "output_type": "stream",
          "text": [
            "✅ Great job! Exercise completed successfully.\n"
          ]
        }
      ],
      "source": [
        "# Drop rows with missing values in DataFrame `df_stats` and save the result into `cleaned_stats`.\n",
        "@check_pandas_22\n",
        "def pandas_22(df_stats):\n",
        "    # This line is mandatory and should not be removed.\n",
        "    ex_stat_init = True\n",
        "\n",
        "    # BELOW GOES YOUR CODE\n",
        "    cleaned_stats = df_stats.dropna()\n",
        "    # ABOVE GOES YOUR CODE\n",
        "    return {\"cleaned_stats\": cleaned_stats}\n",
        "\n",
        "pandas_22()"
      ]
    },
    {
      "cell_type": "code",
      "execution_count": 202,
      "metadata": {
        "id": "jdOgr8Zn_6xE",
        "outputId": "a5fdc3b6-c877-4510-8388-2c3f02ddf141"
      },
      "outputs": [
        {
          "name": "stdout",
          "output_type": "stream",
          "text": [
            "✅ Great job! Exercise completed successfully.\n"
          ]
        }
      ],
      "source": [
        "# From DataFrame `df_statistics`, drop columns with missing values and store the result into `statistics_cleaned`.\n",
        "@check_pandas_23\n",
        "def pandas_23(df_statistics):\n",
        "    # This line is mandatory and should not be removed.\n",
        "    ex_stat_init = True\n",
        "\n",
        "    # BELOW GOES YOUR CODE\n",
        "    statistics_cleaned = df_statistics.dropna(axis=1)\n",
        "    # ABOVE GOES YOUR CODE\n",
        "    return {\"statistics_cleaned\": statistics_cleaned}\n",
        "\n",
        "pandas_23()"
      ]
    },
    {
      "cell_type": "code",
      "execution_count": 203,
      "metadata": {
        "id": "JiZw7EX2_6xF",
        "outputId": "a42840af-b85a-4e4c-a30e-b39d619d42e7"
      },
      "outputs": [
        {
          "name": "stdout",
          "output_type": "stream",
          "text": [
            "✅ Great job! Exercise completed successfully.\n"
          ]
        }
      ],
      "source": [
        "# Fill missing values in DataFrame `df_grades` with 0 and store the resultant DataFrame in `filled_grades`.\n",
        "@check_pandas_24\n",
        "def pandas_24(df_grades):\n",
        "    # This line is mandatory and should not be removed.\n",
        "    ex_stat_init = True\n",
        "\n",
        "    # BELOW GOES YOUR CODE\n",
        "    filled_grades = df_grades.fillna(0)\n",
        "    # ABOVE GOES YOUR CODE\n",
        "    return {\"filled_grades\": filled_grades}\n",
        "\n",
        "pandas_24()"
      ]
    },
    {
      "cell_type": "code",
      "execution_count": 204,
      "metadata": {
        "id": "4OPJ1_K-_6xF",
        "outputId": "41eee860-ed96-4cdc-fe42-2ff17fb88f4f"
      },
      "outputs": [
        {
          "name": "stdout",
          "output_type": "stream",
          "text": [
            "✅ Great job! Exercise completed successfully.\n"
          ]
        }
      ],
      "source": [
        "# Apply backward fill on DataFrame `df_sales_data` for missing values and save it into `filled_bfill_sales_data`.\n",
        "@check_pandas_25\n",
        "def pandas_25(df_sales_data):\n",
        "    # This line is mandatory and should not be removed.\n",
        "    ex_stat_init = True\n",
        "\n",
        "    # BELOW GOES YOUR CODE\n",
        "    filled_bfill_sales_data = df_sales_data.bfill()\n",
        "    # ABOVE GOES YOUR CODE\n",
        "    return {\"filled_bfill_sales_data\": filled_bfill_sales_data}\n",
        "\n",
        "pandas_25()"
      ]
    },
    {
      "cell_type": "code",
      "execution_count": 205,
      "metadata": {
        "id": "lTO3pTmo_6xF",
        "outputId": "2bdc2e06-7ec7-4049-8d40-935eae3c7da3"
      },
      "outputs": [
        {
          "name": "stdout",
          "output_type": "stream",
          "text": [
            "✅ Great job! Exercise completed successfully.\n"
          ]
        }
      ],
      "source": [
        "# Apply forward fill on DataFrame `df_attendance` and store the results in `filled_ffill_attendance`.\n",
        "@check_pandas_26\n",
        "def pandas_26(df_attendance):\n",
        "    # This line is mandatory and should not be removed.\n",
        "    ex_stat_init = True\n",
        "\n",
        "    # BELOW GOES YOUR CODE\n",
        "    filled_ffill_attendance = df_attendance.ffill()\n",
        "    # ABOVE GOES YOUR CODE\n",
        "    return {\"filled_ffill_attendance\": filled_ffill_attendance}\n",
        "\n",
        "pandas_26()"
      ]
    },
    {
      "cell_type": "code",
      "execution_count": 206,
      "metadata": {
        "id": "VuXI4s6O_6xF",
        "outputId": "24d19058-19f0-440e-c61f-4e63131a3c04"
      },
      "outputs": [
        {
          "name": "stdout",
          "output_type": "stream",
          "text": [
            "✅ Great job! Exercise completed successfully.\n"
          ]
        }
      ],
      "source": [
        "# Set 'OrderID' as the index of DataFrame `df_orders_list` and save the updated DataFrame as `orders_indexed`.\n",
        "@check_pandas_27\n",
        "def pandas_27(df_orders_list):\n",
        "    # This line is mandatory and should not be removed.\n",
        "    ex_stat_init = True\n",
        "\n",
        "    # BELOW GOES YOUR CODE\n",
        "    orders_indexed = df_orders_list.set_index('OrderID')\n",
        "    # ABOVE GOES YOUR CODE\n",
        "    return {\"orders_indexed\": orders_indexed}\n",
        "\n",
        "pandas_27()"
      ]
    },
    {
      "cell_type": "code",
      "execution_count": 207,
      "metadata": {
        "id": "SU4P7N9I_6xG",
        "outputId": "3013be51-2091-4f6b-8379-7efae2e993cd"
      },
      "outputs": [
        {
          "name": "stdout",
          "output_type": "stream",
          "text": [
            "✅ Great job! Exercise completed successfully.\n"
          ]
        }
      ],
      "source": [
        "# Reset the index of a DataFrame `df_indexed_data` and store it in `df_reset_index`.\n",
        "@check_pandas_28\n",
        "def pandas_28(df_indexed_data):\n",
        "    # This line is mandatory and should not be removed.\n",
        "    ex_stat_init = True\n",
        "\n",
        "    # BELOW GOES YOUR CODE\n",
        "    df_reset_index = df_indexed_data.reset_index()\n",
        "    # ABOVE GOES YOUR CODE\n",
        "    return {\"df_reset_index\": df_reset_index}\n",
        "\n",
        "pandas_28()"
      ]
    },
    {
      "cell_type": "code",
      "execution_count": 208,
      "metadata": {
        "id": "wtI6MLm4_6xG",
        "outputId": "c32deee5-8337-455a-a6ba-d82368517c6a"
      },
      "outputs": [
        {
          "name": "stdout",
          "output_type": "stream",
          "text": [
            "✅ Great job! Exercise completed successfully.\n"
          ]
        }
      ],
      "source": [
        "# Create a DataFrame `df_multiindex` with hierarchical indexing from `multiindex_data_list` using levels 'Region' and 'Category'.\n",
        "@check_pandas_29\n",
        "def pandas_29(multiindex_data_list):\n",
        "    # This line is mandatory and should not be removed.\n",
        "    ex_stat_init = True\n",
        "\n",
        "    # BELOW GOES YOUR CODE\n",
        "    df_multiindex = pd.DataFrame(multiindex_data_list)\n",
        "    df_multiindex.set_index(['Region', 'Category'], inplace=True)\n",
        "    # ABOVE GOES YOUR CODE\n",
        "    return {\"df_multiindex\": df_multiindex}\n",
        "\n",
        "pandas_29()"
      ]
    },
    {
      "cell_type": "code",
      "execution_count": 209,
      "metadata": {
        "id": "Y9Ss46AS_6xG",
        "outputId": "c1736d39-8d61-4113-9df0-c4b107064bbc"
      },
      "outputs": [
        {
          "name": "stdout",
          "output_type": "stream",
          "text": [
            "✅ Great job! Exercise completed successfully.\n"
          ]
        }
      ],
      "source": [
        "# Use DataFrame `df_exams` to filter rows with Score > 80 using boolean indexing and save it in `high_score_exams`.\n",
        "@check_pandas_30\n",
        "def pandas_30(df_exams):\n",
        "    # This line is mandatory and should not be removed.\n",
        "    ex_stat_init = True\n",
        "\n",
        "    # BELOW GOES YOUR CODE\n",
        "    high_score_exams = df_exams[df_exams['Score'] > 80]\n",
        "    # ABOVE GOES YOUR CODE\n",
        "    return {\"high_score_exams\": high_score_exams}\n",
        "\n",
        "pandas_30()"
      ]
    },
    {
      "cell_type": "code",
      "execution_count": 210,
      "metadata": {
        "id": "gsRh5zrz_6xG",
        "outputId": "76ead47d-febb-4129-fbb7-2031d60a013b"
      },
      "outputs": [
        {
          "name": "stdout",
          "output_type": "stream",
          "text": [
            "✅ Great job! Exercise completed successfully.\n"
          ]
        }
      ],
      "source": [
        "# From DataFrame `df_transactions`, select the row with label 'TX005' and store it in `transaction_TX005`.\n",
        "@check_pandas_31\n",
        "def pandas_31(df_transactions):\n",
        "    # This line is mandatory and should not be removed.\n",
        "    ex_stat_init = True\n",
        "\n",
        "    # BELOW GOES YOUR CODE\n",
        "    transaction_TX005 = df_transactions.loc['TX005']\n",
        "    # ABOVE GOES YOUR CODE\n",
        "    return {\"transaction_TX005\": transaction_TX005}\n",
        "\n",
        "pandas_31()"
      ]
    },
    {
      "cell_type": "code",
      "execution_count": 211,
      "metadata": {
        "id": "QxrnVfQr_6xH",
        "outputId": "7eb90f8d-3682-4c61-8ae6-85a1f8ae0831"
      },
      "outputs": [
        {
          "name": "stdout",
          "output_type": "stream",
          "text": [
            "✅ Great job! Exercise completed successfully.\n"
          ]
        }
      ],
      "source": [
        "# Use DataFrame `df_sports` to select rows labeled ['Basketball', 'Football'] and columns labeled ['Wins', 'Losses'], storing the result in `selected_sports`.\n",
        "@check_pandas_32\n",
        "def pandas_32(df_sports):\n",
        "    # This line is mandatory and should not be removed.\n",
        "    ex_stat_init = True\n",
        "\n",
        "    # BELOW GOES YOUR CODE\n",
        "    selected_sports = df_sports.loc[['Basketball', 'Football'], ['Wins', 'Losses']]\n",
        "    # ABOVE GOES YOUR CODE\n",
        "    return {\"selected_sports\": selected_sports}\n",
        "\n",
        "pandas_32()"
      ]
    },
    {
      "cell_type": "code",
      "execution_count": 212,
      "metadata": {
        "id": "GAQwCco7_6xH",
        "outputId": "da90b1c6-0fe9-4c9d-fea6-daf3707b9981"
      },
      "outputs": [
        {
          "name": "stdout",
          "output_type": "stream",
          "text": [
            "✅ Great job! Exercise completed successfully.\n"
          ]
        }
      ],
      "source": [
        "# From DataFrame `df_catalog`, select rows where 'Category' is 'Electronics' and save them to `electronics_catalog`.\n",
        "@check_pandas_33\n",
        "def pandas_33(df_catalog):\n",
        "    # This line is mandatory and should not be removed.\n",
        "    ex_stat_init = True\n",
        "\n",
        "    # BELOW GOES YOUR CODE\n",
        "    electronics_catalog = df_catalog[df_catalog['Category'] == 'Electronics']\n",
        "    # ABOVE GOES YOUR CODE\n",
        "    return {\"electronics_catalog\": electronics_catalog}\n",
        "\n",
        "pandas_33()"
      ]
    },
    {
      "cell_type": "code",
      "execution_count": 213,
      "metadata": {
        "id": "1MULb2PE_6xI",
        "outputId": "24edc0a3-2753-43e0-ac85-1f94283e0c08"
      },
      "outputs": [
        {
          "name": "stdout",
          "output_type": "stream",
          "text": [
            "✅ Great job! Exercise completed successfully.\n"
          ]
        }
      ],
      "source": [
        "# For DataFrame `df_movies`, perform boolean selection where 'Genre' is 'Action' and 'Budget' > 500000, then select 'Title' and 'Revenue' columns, storing result in `selected_movies`.\n",
        "@check_pandas_34\n",
        "def pandas_34(df_movies):\n",
        "    # This line is mandatory and should not be removed.\n",
        "    ex_stat_init = True\n",
        "\n",
        "    # BELOW GOES YOUR CODE\n",
        "    selected_movies = df_movies[(df_movies['Genre'] == 'Action') & (df_movies['Budget'] > 500000)][['Title', 'Revenue']]\n",
        "    # ABOVE GOES YOUR CODE\n",
        "    return {\"selected_movies\": selected_movies}\n",
        "\n",
        "pandas_34()"
      ]
    },
    {
      "cell_type": "code",
      "execution_count": 214,
      "metadata": {
        "id": "W5b7b14Q_6xI",
        "outputId": "bb41041c-c7ac-4f92-dc3b-7950f0a36452"
      },
      "outputs": [
        {
          "name": "stdout",
          "output_type": "stream",
          "text": [
            "✅ Great job! Exercise completed successfully.\n"
          ]
        }
      ],
      "source": [
        "# Using .loc, slice DataFrame `df_plants` to include rows 'Rose' through 'Tulip' and store it in `flower_slice`.\n",
        "@check_pandas_35\n",
        "def pandas_35(df_plants):\n",
        "    # This line is mandatory and should not be removed.\n",
        "    ex_stat_init = True\n",
        "\n",
        "    # BELOW GOES YOUR CODE\n",
        "    flower_slice = df_plants.loc['Rose':'Tulip']\n",
        "    # ABOVE GOES YOUR CODE\n",
        "    return {\"flower_slice\": flower_slice}\n",
        "\n",
        "pandas_35()"
      ]
    },
    {
      "cell_type": "code",
      "execution_count": 215,
      "metadata": {
        "id": "ICJq9B2g_6xJ",
        "outputId": "2194faea-bae1-4d52-9301-12bc6d2469a5"
      },
      "outputs": [
        {
          "name": "stdout",
          "output_type": "stream",
          "text": [
            "✅ Great job! Exercise completed successfully.\n"
          ]
        }
      ],
      "source": [
        "# Use .iloc to slice DataFrame `df_students` to include the first three rows and the first two columns, saving them in `student_slice`.\n",
        "@check_pandas_36\n",
        "def pandas_36(df_students):\n",
        "    # This line is mandatory and should not be removed.\n",
        "    ex_stat_init = True\n",
        "\n",
        "    # BELOW GOES YOUR CODE\n",
        "    student_slice = df_students.iloc[:3, :2]\n",
        "    # ABOVE GOES YOUR CODE\n",
        "    return {\"student_slice\": student_slice}\n",
        "\n",
        "pandas_36()"
      ]
    },
    {
      "cell_type": "code",
      "execution_count": 216,
      "metadata": {
        "id": "upxFHvJA_6xJ",
        "outputId": "7624802e-879b-40ad-cde8-a29a4aaeb7af"
      },
      "outputs": [
        {
          "name": "stdout",
          "output_type": "stream",
          "text": [
            "✅ Great job! Exercise completed successfully.\n"
          ]
        }
      ],
      "source": [
        "# From DataFrame `df_reports`, use a combination of .loc and .iloc to select rows 'R102' and 'R103' and the first three columns, storing it as `report_selection`.\n",
        "@check_pandas_37\n",
        "def pandas_37(df_reports):\n",
        "    # This line is mandatory and should not be removed.\n",
        "    ex_stat_init = True\n",
        "\n",
        "    # BELOW GOES YOUR CODE\n",
        "    report_selection = df_reports.loc[['R102', 'R103'], df_reports.columns[:3]]\n",
        "    # ABOVE GOES YOUR CODE\n",
        "    return {\"report_selection\": report_selection}\n",
        "\n",
        "pandas_37()"
      ]
    },
    {
      "cell_type": "code",
      "execution_count": 217,
      "metadata": {
        "id": "XeXOHKVY_6xK",
        "outputId": "babe50ca-b05d-450d-d65a-e804e5bfe58a"
      },
      "outputs": [
        {
          "name": "stdout",
          "output_type": "stream",
          "text": [
            "✅ Great job! Exercise completed successfully.\n"
          ]
        }
      ],
      "source": [
        "# Modify DataFrame `df_inventory` by setting all 'Quantity' to 50 for rows labeled 'InStock' and store the modified DataFrame as `inventory_modified`.\n",
        "@check_pandas_38\n",
        "def pandas_38(df_inventory):\n",
        "    # This line is mandatory and should not be removed.\n",
        "    ex_stat_init = True\n",
        "\n",
        "    # BELOW GOES YOUR CODE\n",
        "    df_inventory.loc['InStock', 'Quantity'] = 50\n",
        "    inventory_modified = df_inventory\n",
        "    # ABOVE GOES YOUR CODE\n",
        "    return {\"inventory_modified\": inventory_modified}\n",
        "\n",
        "pandas_38()"
      ]
    },
    {
      "cell_type": "code",
      "execution_count": 218,
      "metadata": {
        "id": "mYxG64bq_6xK",
        "outputId": "ac52ca2b-e38b-4ff1-f36e-9662121a53e9"
      },
      "outputs": [
        {
          "name": "stdout",
          "output_type": "stream",
          "text": [
            "✅ Great job! Exercise completed successfully.\n"
          ]
        }
      ],
      "source": [
        "# Combine .loc and .iloc to modify rows 'R101' to 'R105' in 'df_revenue' setting the first column's value to 1000, storing it in `revenue_updated`.\n",
        "@check_pandas_39\n",
        "def pandas_39(df_revenue):\n",
        "    # This line is mandatory and should not be removed.\n",
        "    ex_stat_init = True\n",
        "\n",
        "    # BELOW GOES YOUR CODE\n",
        "    df_revenue.loc['R101':'R105', df_revenue.columns[0]] = 1000\n",
        "    revenue_updated = df_revenue\n",
        "    # ABOVE GOES YOUR CODE\n",
        "    return {\"revenue_updated\": revenue_updated}\n",
        "\n",
        "pandas_39()"
      ]
    },
    {
      "cell_type": "code",
      "execution_count": 219,
      "metadata": {
        "id": "cX5mlTjl_6xL",
        "outputId": "f198f58c-9fbf-4f81-9387-ac8b4e3a8679"
      },
      "outputs": [
        {
          "name": "stdout",
          "output_type": "stream",
          "text": [
            "✅ Great job! Exercise completed successfully.\n"
          ]
        }
      ],
      "source": [
        "# Using DataFrame `df_hierarchical_example`, demonstrate the use of .loc and .iloc on a DataFrame with a multiindex, saving the selection as `multiindex_selected`, selecting the row with index ('North', 'A') and column 'X'.\n",
        "@check_pandas_40\n",
        "def pandas_40(df_hierarchical_example):\n",
        "    # This line is mandatory and should not be removed.\n",
        "    ex_stat_init = True\n",
        "\n",
        "    # BELOW GOES YOUR CODE\n",
        "    multiindex_selected = df_hierarchical_example.loc[('North', 'A'), 'X']\n",
        "    # ABOVE GOES YOUR CODE\n",
        "    return {\"multiindex_selected\": multiindex_selected}\n",
        "\n",
        "pandas_40()"
      ]
    },
    {
      "cell_type": "code",
      "execution_count": 220,
      "metadata": {
        "id": "QYAOIDJ4_6xL",
        "outputId": "9dbd8526-c269-4261-c95a-bb04d0be41d2"
      },
      "outputs": [
        {
          "name": "stdout",
          "output_type": "stream",
          "text": [
            "✅ Great job! Exercise completed successfully.\n"
          ]
        }
      ],
      "source": [
        "# Concatenate DataFrames `df1` and `df2` horizontally and save the result as `concatenated_df_horizontal`.\n",
        "@check_pandas_41\n",
        "def pandas_41(df1, df2):\n",
        "    # This line is mandatory and should not be removed.\n",
        "    ex_stat_init = True\n",
        "\n",
        "    # BELOW GOES YOUR CODE\n",
        "    concatenated_df_horizontal = pd.concat([df1, df2], axis=1)\n",
        "    # ABOVE GOES YOUR CODE\n",
        "    return {\"concatenated_df_horizontal\": concatenated_df_horizontal}\n",
        "\n",
        "pandas_41()"
      ]
    },
    {
      "cell_type": "code",
      "execution_count": 221,
      "metadata": {
        "id": "itOjxxB6_6xL",
        "outputId": "c02891e6-85c5-43ff-df62-63116cf612e8"
      },
      "outputs": [
        {
          "name": "stdout",
          "output_type": "stream",
          "text": [
            "✅ Great job! Exercise completed successfully.\n"
          ]
        }
      ],
      "source": [
        "# Concatenate DataFrames `df_a` and `df_b` vertically, aligning by columns, and store the result in `concatenated_df_vertical`.\n",
        "@check_pandas_42\n",
        "def pandas_42(df_a, df_b):\n",
        "    # This line is mandatory and should not be removed.\n",
        "    ex_stat_init = True\n",
        "\n",
        "    # BELOW GOES YOUR CODE\n",
        "    concatenated_df_vertical = pd.concat([df_a, df_b], axis=0)\n",
        "    # ABOVE GOES YOUR CODE\n",
        "    return {\"concatenated_df_vertical\": concatenated_df_vertical}\n",
        "\n",
        "pandas_42()"
      ]
    },
    {
      "cell_type": "code",
      "execution_count": 222,
      "metadata": {
        "id": "HF5XZq1U_6xL",
        "outputId": "51d32cde-66a6-4c17-cc00-601e282d6c85"
      },
      "outputs": [
        {
          "name": "stdout",
          "output_type": "stream",
          "text": [
            "✅ Great job! Exercise completed successfully.\n"
          ]
        }
      ],
      "source": [
        "# Merge DataFrames `df_left` and `df_right` on key 'ID', using outer method and store result in `merged_outer`.\n",
        "@check_pandas_43\n",
        "def pandas_43(df_left, df_right):\n",
        "    # This line is mandatory and should not be removed.\n",
        "    ex_stat_init = True\n",
        "\n",
        "    # BELOW GOES YOUR CODE\n",
        "    merged_outer = pd.merge(df_left, df_right, on='ID', how='outer')\n",
        "    # ABOVE GOES YOUR CODE\n",
        "    return {\"merged_outer\": merged_outer}\n",
        "\n",
        "pandas_43()"
      ]
    },
    {
      "cell_type": "code",
      "execution_count": 223,
      "metadata": {
        "id": "yCnEc-fO_6xM",
        "outputId": "3f08ec94-1f99-4e6e-be41-f3156a60d121"
      },
      "outputs": [
        {
          "name": "stdout",
          "output_type": "stream",
          "text": [
            "✅ Great job! Exercise completed successfully.\n"
          ]
        }
      ],
      "source": [
        "# Perform a right merge on DataFrames `df_personal` and `df_contact` based on the key 'ContactID', saving it as `merged_right`.\n",
        "@check_pandas_44\n",
        "def pandas_44(df_personal, df_contact):\n",
        "    # This line is mandatory and should not be removed.\n",
        "    ex_stat_init = True\n",
        "\n",
        "    # BELOW GOES YOUR CODE\n",
        "    merged_right = pd.merge(df_personal, df_contact, on='ContactID', how='right')\n",
        "    # ABOVE GOES YOUR CODE\n",
        "    return {\"merged_right\": merged_right}\n",
        "\n",
        "pandas_44()"
      ]
    },
    {
      "cell_type": "code",
      "execution_count": 224,
      "metadata": {
        "id": "bzJQkl5a_6xM",
        "outputId": "e1f9b1fe-972b-4f1d-81c1-4eef576bcc8f"
      },
      "outputs": [
        {
          "name": "stdout",
          "output_type": "stream",
          "text": [
            "✅ Great job! Exercise completed successfully.\n"
          ]
        }
      ],
      "source": [
        "# Join DataFrames `df_main` and `df_additional` using an inner join, saving the result in `joined_inner`.\n",
        "@check_pandas_45\n",
        "def pandas_45(df_main, df_additional):\n",
        "    # This line is mandatory and should not be removed.\n",
        "    ex_stat_init = True\n",
        "\n",
        "    # BELOW GOES YOUR CODE\n",
        "    joined_inner = df_main.join(df_additional, how='inner')\n",
        "    # ABOVE GOES YOUR CODE\n",
        "    return {\"joined_inner\": joined_inner}\n",
        "\n",
        "pandas_45()"
      ]
    },
    {
      "cell_type": "code",
      "execution_count": 225,
      "metadata": {
        "id": "458vAsjT_6xM",
        "outputId": "90af7e54-38a5-4cad-b8b6-8c75017e29d9"
      },
      "outputs": [
        {
          "name": "stdout",
          "output_type": "stream",
          "text": [
            "✅ Great job! Exercise completed successfully.\n"
          ]
        }
      ],
      "source": [
        "# Conduct a left join on DataFrames `df_sales_main` and `df_sales_region` on 'RegionID', storing it as `joined_left`.\n",
        "@check_pandas_46\n",
        "def pandas_46(df_sales_main, df_sales_region):\n",
        "    # This line is mandatory and should not be removed.\n",
        "    ex_stat_init = True\n",
        "\n",
        "    # BELOW GOES YOUR CODE\n",
        "    joined_left = pd.merge(df_sales_main, df_sales_region, on='RegionID', how='left')\n",
        "    # ABOVE GOES YOUR CODE\n",
        "    return {\"joined_left\": joined_left}\n",
        "\n",
        "pandas_46()"
      ]
    },
    {
      "cell_type": "code",
      "execution_count": 226,
      "metadata": {
        "id": "qLwvQAHi_6xM",
        "outputId": "0ffbaf21-143a-4b39-8f14-19baf59966eb"
      },
      "outputs": [
        {
          "name": "stdout",
          "output_type": "stream",
          "text": [
            "✅ Great job! Exercise completed successfully.\n"
          ]
        }
      ],
      "source": [
        "# Group DataFrame `df_employee` by 'Department', calculating the average 'Salary' for each group and saving it as `avg_salary_by_department`.\n",
        "@check_pandas_47\n",
        "def pandas_47(df_employee):\n",
        "    # This line is mandatory and should not be removed.\n",
        "    ex_stat_init = True\n",
        "\n",
        "    # BELOW GOES YOUR CODE\n",
        "    avg_salary_by_department = df_employee.groupby('Department')['Salary'].mean()\n",
        "    # ABOVE GOES YOUR CODE\n",
        "    return {\"avg_salary_by_department\": avg_salary_by_department}\n",
        "\n",
        "pandas_47()"
      ]
    },
    {
      "cell_type": "code",
      "execution_count": 227,
      "metadata": {
        "id": "cdSURla6_6xM",
        "outputId": "dea65783-2564-4863-95b8-8c567384940b"
      },
      "outputs": [
        {
          "name": "stdout",
          "output_type": "stream",
          "text": [
            "✅ Great job! Exercise completed successfully.\n"
          ]
        }
      ],
      "source": [
        "# Pivot DataFrame `df_orders` with 'OrderID' as index, 'Category' as columns, and 'Amount' as values, resulting in `pivoted_orders`.\n",
        "@check_pandas_48\n",
        "def pandas_48(df_orders):\n",
        "    # This line is mandatory and should not be removed.\n",
        "    ex_stat_init = True\n",
        "\n",
        "    # BELOW GOES YOUR CODE\n",
        "    pivoted_orders = df_orders.pivot(index=\"OrderID\", columns=\"Category\", values=\"Amount\")\n",
        "    # ABOVE GOES YOUR CODE\n",
        "    return {\"pivoted_orders\": pivoted_orders}\n",
        "\n",
        "pandas_48()"
      ]
    },
    {
      "cell_type": "code",
      "execution_count": 228,
      "metadata": {
        "id": "mXvG1dAG_6xN",
        "outputId": "2c79c319-448b-4b27-dc29-c8e3683f9a2e"
      },
      "outputs": [
        {
          "name": "stdout",
          "output_type": "stream",
          "text": [
            "✅ Great job! Exercise completed successfully.\n"
          ]
        }
      ],
      "source": [
        "# Utilize crosstab to get a frequency table of 'Region' and 'ProductType' categories from `df_business`, storing the result as `region_product_crosstab`.\n",
        "@check_pandas_49\n",
        "def pandas_49(df_business):\n",
        "    # This line is mandatory and should not be removed.\n",
        "    ex_stat_init = True\n",
        "\n",
        "    # BELOW GOES YOUR CODE\n",
        "    region_product_crosstab = pd.crosstab(df_business[\"Region\"], df_business[\"ProductType\"])\n",
        "    # ABOVE GOES YOUR CODE\n",
        "    return {\"region_product_crosstab\": region_product_crosstab}\n",
        "\n",
        "pandas_49()"
      ]
    },
    {
      "cell_type": "code",
      "execution_count": 229,
      "metadata": {
        "id": "Tdy3U_kc_6xN",
        "outputId": "233e2ab7-a282-4fee-8c53-8d2adf804a21"
      },
      "outputs": [
        {
          "name": "stdout",
          "output_type": "stream",
          "text": [
            "✅ Great job! Exercise completed successfully.\n"
          ]
        }
      ],
      "source": [
        "# Reshape DataFrame `df_energy` from wide to long format using melt, and store the result in `melted_energy`.\n",
        "@check_pandas_50\n",
        "def pandas_50(df_energy):\n",
        "    # This line is mandatory and should not be removed.\n",
        "    ex_stat_init = True\n",
        "    # BELOW GOES YOUR CODE\n",
        "    melted_energy = df_energy.melt(\n",
        "        id_vars='Year',        \n",
        "        var_name='EnergyType',  \n",
        "        value_name='Consumption'  \n",
        "    )\n",
        "    # ABOVE GOES YOUR CODE\n",
        "    return {\"melted_energy\": melted_energy}\n",
        "\n",
        "pandas_50()"
      ]
    },
    {
      "cell_type": "code",
      "execution_count": 230,
      "metadata": {
        "id": "oP-3v31k_6xN",
        "outputId": "bec45de6-b1db-4ba6-e1f7-7b4193ca6b38"
      },
      "outputs": [
        {
          "name": "stdout",
          "output_type": "stream",
          "text": [
            "✅ Great job! Exercise completed successfully.\n"
          ]
        }
      ],
      "source": [
        "# Using DataFrame `df_product_sales`, change its structure by applying a pivot operation with 'ProductID' being the index, columns as 'Month', and 'Sales' as values, storing the result in `pivoted_sales`.\n",
        "@check_pandas_51\n",
        "def pandas_51(df_product_sales):\n",
        "    # This line is mandatory and should not be removed.\n",
        "    ex_stat_init = True\n",
        "\n",
        "    # BELOW GOES YOUR CODE\n",
        "    pivoted_sales = df_product_sales.pivot(index='ProductID', columns='Month', values='Sales')\n",
        "    # ABOVE GOES YOUR CODE\n",
        "    return {\"pivoted_sales\": pivoted_sales}\n",
        "\n",
        "pandas_51()"
      ]
    },
    {
      "cell_type": "code",
      "execution_count": 231,
      "metadata": {
        "id": "agXL_pDp_6xN",
        "outputId": "87a07fa7-953e-45d9-d6e3-3e2c663b8443"
      },
      "outputs": [
        {
          "name": "stdout",
          "output_type": "stream",
          "text": [
            "✅ Great job! Exercise completed successfully.\n"
          ]
        }
      ],
      "source": [
        "# Create a pandas DataFrame `df_date_range` using a date range starting from '2022-01-01' to '2023-01-01', frequency of 'MS', with columns ['Sales', 'Profit'] filled with zeros.\n",
        "@check_pandas_52\n",
        "def pandas_52():\n",
        "    # This line is mandatory and should not be removed.\n",
        "    ex_stat_init = True\n",
        "\n",
        "    # BELOW GOES YOUR CODE\n",
        "    df_date_range = pd.DataFrame( 0,index=pd.date_range(start='2022-01-01', end='2023-01-01', freq='MS'),columns=['Sales', 'Profit'])\n",
        "    # ABOVE GOES YOUR CODE\n",
        "    return {\"df_date_range\": df_date_range}\n",
        "\n",
        "pandas_52()"
      ]
    },
    {
      "cell_type": "code",
      "execution_count": 232,
      "metadata": {
        "id": "5PLGtXuJ_6xO",
        "outputId": "99638edd-7edc-4b63-ecdb-8b6861daaa7f"
      },
      "outputs": [
        {
          "name": "stdout",
          "output_type": "stream",
          "text": [
            "✅ Great job! Exercise completed successfully.\n"
          ]
        }
      ],
      "source": [
        "# Extract the year and month for each entry in DataFrame `df_date_series` with a DateTimeIndex, storing them in `years` and `months` respectively.\n",
        "@check_pandas_53\n",
        "def pandas_53(df_date_series):\n",
        "    # This line is mandatory and should not be removed.\n",
        "    ex_stat_init = True\n",
        "\n",
        "    # BELOW GOES YOUR CODE\n",
        "    years = df_date_series.index.year\n",
        "    months = df_date_series.index.month\n",
        "    # ABOVE GOES YOUR CODE\n",
        "    return {\"years\": years, \"months\": months}\n",
        "\n",
        "pandas_53()"
      ]
    },
    {
      "cell_type": "code",
      "execution_count": 233,
      "metadata": {
        "id": "bLF5aOUP_6xO",
        "outputId": "8cce7544-19ab-4425-c926-886c7d23c49e"
      },
      "outputs": [
        {
          "name": "stdout",
          "output_type": "stream",
          "text": [
            "✅ Great job! Exercise completed successfully.\n"
          ]
        },
        {
          "name": "stderr",
          "output_type": "stream",
          "text": [
            "C:\\Users\\Cezar\\AppData\\Local\\Temp\\ipykernel_15792\\2127553736.py:8: FutureWarning: 'Q' is deprecated and will be removed in a future version, please use 'QE' instead.\n",
            "  quarterly_series = df_time_series.resample('Q').sum()\n"
          ]
        }
      ],
      "source": [
        "# Resample DataFrame `df_time_series` to quarterly frequency, taking the sum, and store the resulting series in `quarterly_series`.\n",
        "@check_pandas_54\n",
        "def pandas_54(df_time_series):\n",
        "    # This line is mandatory and should not be removed.\n",
        "    ex_stat_init = True\n",
        "\n",
        "    # BELOW GOES YOUR CODE\n",
        "    quarterly_series = df_time_series.resample('Q').sum()\n",
        "    # ABOVE GOES YOUR CODE\n",
        "    return {\"quarterly_series\": quarterly_series}\n",
        "\n",
        "pandas_54()"
      ]
    },
    {
      "cell_type": "code",
      "execution_count": 234,
      "metadata": {
        "id": "9B44MPn7_6xP",
        "outputId": "23221047-b326-49ea-b12c-4db34bd81d51"
      },
      "outputs": [
        {
          "name": "stdout",
          "output_type": "stream",
          "text": [
            "✅ Great job! Exercise completed successfully.\n"
          ]
        }
      ],
      "source": [
        "# Apply a rolling window of 7 days for the DataFrame `df_metrics`, and calculate the mean, storing it in `rolling_mean_metrics`.\n",
        "@check_pandas_55\n",
        "def pandas_55(df_metrics):\n",
        "    # This line is mandatory and should not be removed.\n",
        "    ex_stat_init = True\n",
        "\n",
        "    # BELOW GOES YOUR CODE\n",
        "    rolling_mean_metrics = df_metrics.rolling(window=7).mean()\n",
        "    # ABOVE GOES YOUR CODE\n",
        "    return {\"rolling_mean_metrics\": rolling_mean_metrics}\n",
        "\n",
        "pandas_55()"
      ]
    },
    {
      "cell_type": "code",
      "execution_count": 291,
      "metadata": {
        "id": "12ARkQp7_6xP",
        "outputId": "f5540538-8b27-4828-e218-c13368194e0a"
      },
      "outputs": [
        {
          "name": "stdout",
          "output_type": "stream",
          "text": [
            "    Revenue\n",
            "0  0.694465\n",
            "1  0.714998\n",
            "2  0.725519\n",
            "3  0.732428\n",
            "4  0.737503\n",
            "❗ The implementation is incorrect or the exercise was not implemented.\n"
          ]
        }
      ],
      "source": [
        "# Apply the function `np.log1p` to the column 'Revenue' in DataFrame `df_financial_data`, storing the updated data in `logged_df`.\n",
        "@check_pandas_56\n",
        "def pandas_56(df_financial_data):\n",
        "    # This line is mandatory and should not be removed.\n",
        "    ex_stat_init = True\n",
        "\n",
        "    # BELOW GOES YOUR CODE\n",
        "    logged_df = df_financial_data.copy()\n",
        "    logged_df['Revenue'] = np.log1p(df_financial_data['Revenue'])\n",
        "    # ABOVE GOES YOUR CODE\n",
        "    print(logged_df)\n",
        "    return {\"logged_df\": logged_df}\n",
        "\n",
        "pandas_56()"
      ]
    },
    {
      "cell_type": "code",
      "execution_count": 236,
      "metadata": {
        "id": "UQqOBspg_6xP",
        "outputId": "052f67ed-f196-4b79-a282-dbf7518aa65d"
      },
      "outputs": [
        {
          "name": "stdout",
          "output_type": "stream",
          "text": [
            "✅ Great job! Exercise completed successfully.\n"
          ]
        }
      ],
      "source": [
        "# Optimize memory usage of DataFrame `df_large` by converting column 'ID' to int32 and store as `optimized_df`.\n",
        "@check_pandas_57\n",
        "def pandas_57(df_large):\n",
        "    # This line is mandatory and should not be removed.\n",
        "    ex_stat_init = True\n",
        "\n",
        "    # BELOW GOES YOUR CODE\n",
        "    df_large['ID'] = df_large['ID'].astype('int32')\n",
        "    optimized_df = df_large\n",
        "    # ABOVE GOES YOUR CODE\n",
        "    return {\"optimized_df\": optimized_df}\n",
        "\n",
        "pandas_57()"
      ]
    },
    {
      "cell_type": "code",
      "execution_count": 237,
      "metadata": {
        "id": "BpoGQ7w8_6xP",
        "outputId": "d81f95d5-bb74-47d3-921d-fd79a5898da0"
      },
      "outputs": [
        {
          "name": "stdout",
          "output_type": "stream",
          "text": [
            "✅ Great job! Exercise completed successfully.\n"
          ]
        }
      ],
      "source": [
        "# Convert data types of 'Price' in DataFrame `df_items` from float64 to float32 for memory efficiency, saving the result as `optimized_items`.\n",
        "@check_pandas_58\n",
        "def pandas_58(df_items):\n",
        "    # This line is mandatory and should not be removed.\n",
        "    ex_stat_init = True\n",
        "\n",
        "    # BELOW GOES YOUR CODE\n",
        "    df_items['Price'] = df_items['Price'].astype('float32')\n",
        "    optimized_items = df_items\n",
        "    # ABOVE GOES YOUR CODE\n",
        "    return {\"optimized_items\": optimized_items}\n",
        "\n",
        "pandas_58()"
      ]
    },
    {
      "cell_type": "code",
      "execution_count": 238,
      "metadata": {
        "id": "nFYn_nSX_6xQ",
        "outputId": "366c1251-009b-4a6a-83a9-c9b138b2c9bb"
      },
      "outputs": [
        {
          "name": "stdout",
          "output_type": "stream",
          "text": [
            "✅ Great job! Exercise completed successfully.\n"
          ]
        }
      ],
      "source": [
        "# Remove duplicate entries from DataFrame `df_database` and store the cleaned DataFrame as `unique_database`.\n",
        "@check_pandas_59\n",
        "def pandas_59(df_database):\n",
        "    # This line is mandatory and should not be removed.\n",
        "    ex_stat_init = True\n",
        "\n",
        "    # BELOW GOES YOUR CODE\n",
        "    unique_database = df_database.drop_duplicates()\n",
        "    # ABOVE GOES YOUR CODE\n",
        "    return {\"unique_database\": unique_database}\n",
        "\n",
        "pandas_59()"
      ]
    },
    {
      "cell_type": "code",
      "execution_count": 239,
      "metadata": {
        "id": "sQGlW45f_6xQ",
        "outputId": "66669d64-c436-4ad1-da4a-b59b2a841c0e"
      },
      "outputs": [
        {
          "name": "stdout",
          "output_type": "stream",
          "text": [
            "✅ Great job! Exercise completed successfully.\n"
          ]
        }
      ],
      "source": [
        "# Perform string operation by converting all entries in the 'Names' column of `df_attendees` to uppercase, storing the resulting DataFrame as `uppercase_attendees`.\n",
        "@check_pandas_60\n",
        "def pandas_60(df_attendees):\n",
        "    # This line is mandatory and should not be removed.\n",
        "    ex_stat_init = True\n",
        "\n",
        "    # BELOW GOES YOUR CODE\n",
        "    df_attendees['Names'] = df_attendees['Names'].str.upper()\n",
        "    uppercase_attendees = df_attendees\n",
        "    # ABOVE GOES YOUR CODE\n",
        "    return {\"uppercase_attendees\": uppercase_attendees}\n",
        "\n",
        "pandas_60()"
      ]
    },
    {
      "cell_type": "code",
      "execution_count": 240,
      "metadata": {
        "id": "Bldm-Hj-_6xQ",
        "outputId": "5cc55257-c739-4886-8261-9dfa5d713f6f"
      },
      "outputs": [
        {
          "name": "stdout",
          "output_type": "stream",
          "text": [
            "✅ Great job! Exercise completed successfully.\n"
          ]
        }
      ],
      "source": [
        "# Select rows from DataFrame `df_students` using the query method to find students with 'Score' greater than 85, storing the result as `high_scorers`.\n",
        "@check_pandas_61\n",
        "def pandas_61(df_students):\n",
        "    # This line is mandatory and should not be removed.\n",
        "    ex_stat_init = True\n",
        "\n",
        "    # BELOW GOES YOUR CODE\n",
        "    high_scorers = df_students.query(\"Score > 85\")\n",
        "    # ABOVE GOES YOUR CODE\n",
        "    return {\"high_scorers\": high_scorers}\n",
        "\n",
        "pandas_61()"
      ]
    },
    {
      "cell_type": "code",
      "execution_count": 241,
      "metadata": {
        "id": "w_byFMQl_6xR",
        "outputId": "1c7e7573-9ca1-4888-8fc4-5e5d7e752e19"
      },
      "outputs": [
        {
          "name": "stdout",
          "output_type": "stream",
          "text": [
            "✅ Great job! Exercise completed successfully.\n"
          ]
        },
        {
          "name": "stderr",
          "output_type": "stream",
          "text": [
            "C:\\Users\\Cezar\\AppData\\Local\\Temp\\ipykernel_15792\\2306415210.py:8: DeprecationWarning: DataFrameGroupBy.apply operated on the grouping columns. This behavior is deprecated, and in a future version of pandas the grouping columns will be excluded from the operation. Either pass `include_groups=False` to exclude the groupings or explicitly select the grouping columns after groupby to silence this warning.\n",
            "  ranked_teams = df_results.groupby('Team').apply(lambda group: group.assign(Rank=group['Score'].rank(ascending=False)))\n"
          ]
        }
      ],
      "source": [
        "# In DataFrame `df_results`, group by 'Team', apply custom function to rank 'Score' in descending order, and store the result in `ranked_teams`.\n",
        "@check_pandas_62\n",
        "def pandas_62(df_results):\n",
        "    # This line is mandatory and should not be removed.\n",
        "    ex_stat_init = True\n",
        "\n",
        "    # BELOW GOES YOUR CODE\n",
        "    ranked_teams = df_results.groupby('Team').apply(lambda group: group.assign(Rank=group['Score'].rank(ascending=False)))\n",
        "    # ABOVE GOES YOUR CODE\n",
        "    return {\"ranked_teams\": ranked_teams}\n",
        "\n",
        "pandas_62()"
      ]
    },
    {
      "cell_type": "code",
      "execution_count": 242,
      "metadata": {
        "id": "TOzE7mjj_6xR",
        "outputId": "4135f324-5b20-4ac3-de0b-2cbf8cdb8ab1"
      },
      "outputs": [
        {
          "name": "stdout",
          "output_type": "stream",
          "text": [
            "✅ Great job! Exercise completed successfully.\n"
          ]
        }
      ],
      "source": [
        "# Perform a aggregation on DataFrame `df_data_group` for 'City' using a custom function that finds the range of 'Temperature', storing as `temperature_range`.\n",
        "@check_pandas_63\n",
        "def pandas_63(df_data_group):\n",
        "    # This line is mandatory and should not be removed.\n",
        "    ex_stat_init = True\n",
        "\n",
        "    # BELOW GOES YOUR CODE\n",
        "    temperature_range = df_data_group.groupby(\"City\")['Temperature'].agg(lambda x: x.max() - x.min())    # ABOVE GOES YOUR CODE\n",
        "    return {\"temperature_range\": temperature_range}\n",
        "\n",
        "pandas_63()"
      ]
    },
    {
      "cell_type": "code",
      "execution_count": 243,
      "metadata": {
        "id": "H6Aw2HkC_6xR",
        "outputId": "04ebfd4b-51ca-4ce6-844c-09260137e01d"
      },
      "outputs": [
        {
          "name": "stdout",
          "output_type": "stream",
          "text": [
            "✅ Great job! Exercise completed successfully.\n"
          ]
        }
      ],
      "source": [
        "# Use vectorized operations to add 10 to every element in DataFrame `df_numeric`, saving the result as `adjusted_numeric`.\n",
        "@check_pandas_64\n",
        "def pandas_64(df_numeric):\n",
        "    # This line is mandatory and should not be removed.\n",
        "    ex_stat_init = True\n",
        "\n",
        "    # BELOW GOES YOUR CODE\n",
        "    adjusted_numeric = df_numeric + 10\n",
        "    # ABOVE GOES YOUR CODE\n",
        "    return {\"adjusted_numeric\": adjusted_numeric}\n",
        "\n",
        "pandas_64()"
      ]
    },
    {
      "cell_type": "code",
      "execution_count": 244,
      "metadata": {
        "id": "6m-skalK_6xS",
        "outputId": "d01b35dc-61d7-42a2-9135-e599a50e8a08"
      },
      "outputs": [
        {
          "name": "stdout",
          "output_type": "stream",
          "text": [
            "✅ Great job! Exercise completed successfully.\n"
          ]
        }
      ],
      "source": [
        "# Process DataFrame `df_sales_timezones` to convert the 'Timestamp' to a timezone-aware datetime, setting the timezone to 'UTC', and save as `timezone_aware_sales`.\n",
        "@check_pandas_65\n",
        "def pandas_65(df_sales_timezones):\n",
        "    # This line is mandatory and should not be removed.\n",
        "    ex_stat_init = True\n",
        "\n",
        "    # BELOW GOES YOUR CODE\n",
        "    timezone_aware_sales = df_sales_timezones.copy()\n",
        "    timezone_aware_sales['Timestamp'] = pd.to_datetime(timezone_aware_sales['Timestamp']).dt.tz_localize('UTC')\n",
        "    # ABOVE GOES YOUR CODE\n",
        "    return {\"timezone_aware_sales\": timezone_aware_sales}\n",
        "\n",
        "pandas_65()"
      ]
    },
    {
      "cell_type": "code",
      "execution_count": 245,
      "metadata": {
        "id": "OhO5_odc_6xS",
        "outputId": "404eaf2d-8972-4ebb-b113-d8664b8bb7e7"
      },
      "outputs": [
        {
          "name": "stdout",
          "output_type": "stream",
          "text": [
            "✅ Great job! Exercise completed successfully.\n"
          ]
        },
        {
          "name": "stderr",
          "output_type": "stream",
          "text": [
            "C:\\Users\\Cezar\\AppData\\Local\\Temp\\ipykernel_15792\\835074753.py:8: FutureWarning: Passing literal json to 'read_json' is deprecated and will be removed in a future version. To read from a literal string, wrap it in a 'StringIO' object.\n",
            "  df_customer_reviews = pd.read_json(json_input_string)\n"
          ]
        }
      ],
      "source": [
        "# Create a pandas DataFrame `df_customer_reviews` from a JSON string `json_input_string`.\n",
        "@check_pandas_66\n",
        "def pandas_66(json_input_string):\n",
        "    # This line is mandatory and should not be removed.\n",
        "    ex_stat_init = True\n",
        "\n",
        "    # BELOW GOES YOUR CODE\n",
        "    df_customer_reviews = pd.read_json(json_input_string)\n",
        "    # ABOVE GOES YOUR CODE\n",
        "    return {\"df_customer_reviews\": df_customer_reviews}\n",
        "\n",
        "pandas_66()"
      ]
    },
    {
      "cell_type": "code",
      "execution_count": 246,
      "metadata": {
        "id": "KhyJ4l1V_6xS",
        "outputId": "cf295e2c-8e97-496f-e62d-0d92fec679fb"
      },
      "outputs": [
        {
          "name": "stdout",
          "output_type": "stream",
          "text": [
            "✅ Great job! Exercise completed successfully.\n"
          ]
        }
      ],
      "source": [
        "# Given a pandas Series `series_temp_investments`, access specific elements from custom indices ['A1', 'B2', 'C3'] and save them to `selected_investments`.\n",
        "@check_pandas_67\n",
        "def pandas_67(series_temp_investments):\n",
        "    # This line is mandatory and should not be removed.\n",
        "    ex_stat_init = True\n",
        "\n",
        "    # BELOW GOES YOUR CODE\n",
        "    selected_investments = series_temp_investments.loc[['A1', 'B2', 'C3']] \n",
        "    # ABOVE GOES YOUR CODE\n",
        "    return {\"selected_investments\": selected_investments}\n",
        "\n",
        "pandas_67()"
      ]
    },
    {
      "cell_type": "code",
      "execution_count": 247,
      "metadata": {
        "id": "7vICtdFe_6xT",
        "outputId": "6dde7240-ba13-492a-b91a-445516648ec3"
      },
      "outputs": [
        {
          "name": "stdout",
          "output_type": "stream",
          "text": [
            "✅ Great job! Exercise completed successfully.\n"
          ]
        }
      ],
      "source": [
        "# Slice pandas Series `series_temp_readings` to return every second element, storing the result in `temp_slice_even`.\n",
        "@check_pandas_68\n",
        "def pandas_68(series_temp_readings):\n",
        "    # This line is mandatory and should not be removed.\n",
        "    ex_stat_init = True\n",
        "\n",
        "    # BELOW GOES YOUR CODE\n",
        "    temp_slice_even = series_temp_readings.iloc[::2]\n",
        "    # ABOVE GOES YOUR CODE\n",
        "    return {\"temp_slice_even\": temp_slice_even}\n",
        "\n",
        "pandas_68()"
      ]
    },
    {
      "cell_type": "code",
      "execution_count": 248,
      "metadata": {
        "id": "mfSb8rh7_6xT",
        "outputId": "4e9aa64b-ac9d-49a2-e0c6-2d8dda781042"
      },
      "outputs": [
        {
          "name": "stdout",
          "output_type": "stream",
          "text": [
            "✅ Great job! Exercise completed successfully.\n"
          ]
        }
      ],
      "source": [
        "# From a list of dictionaries `sensor_data_list`, create a DataFrame named `df_sensor_readings` with custom column names ['SensorID', 'Temperature', 'Humidity'].\n",
        "@check_pandas_69\n",
        "def pandas_69(sensor_data_list):\n",
        "    # This line is mandatory and should not be removed.\n",
        "    ex_stat_init = True\n",
        "\n",
        "    # BELOW GOES YOUR CODE\n",
        "    df_sensor_readings = pd.DataFrame(sensor_data_list, columns=['SensorID', 'Temperature', 'Humidity'])\n",
        "    # ABOVE GOES YOUR CODE\n",
        "    return {\"df_sensor_readings\": df_sensor_readings}\n",
        "\n",
        "pandas_69()"
      ]
    },
    {
      "cell_type": "code",
      "execution_count": 249,
      "metadata": {
        "id": "7p7l71A2_6xT",
        "outputId": "8d4c9f95-6f46-4285-94c2-100afff3fa9c"
      },
      "outputs": [
        {
          "name": "stdout",
          "output_type": "stream",
          "text": [
            "✅ Great job! Exercise completed successfully.\n"
          ]
        }
      ],
      "source": [
        "# Access and display the first 10 elements of Series `series_large_dataset`, storing them in `top_ten_elements`.\n",
        "@check_pandas_70\n",
        "def pandas_70(series_large_dataset):\n",
        "    # This line is mandatory and should not be removed.\n",
        "    ex_stat_init = True\n",
        "\n",
        "    # BELOW GOES YOUR CODE\n",
        "    top_ten_elements = series_large_dataset.head(10)\n",
        "    # ABOVE GOES YOUR CODE\n",
        "    return {\"top_ten_elements\": top_ten_elements}\n",
        "\n",
        "pandas_70()"
      ]
    },
    {
      "cell_type": "code",
      "execution_count": 250,
      "metadata": {
        "id": "-jFJORfZ_6xT",
        "outputId": "903d3e0f-bbd8-4c28-8326-d035cc6d7b10"
      },
      "outputs": [
        {
          "name": "stdout",
          "output_type": "stream",
          "text": [
            "✅ Great job! Exercise completed successfully.\n"
          ]
        }
      ],
      "source": [
        "# Use the DataFrame `df_population_data` to extract and store the indices in a variable `population_indices`.\n",
        "@check_pandas_71\n",
        "def pandas_71(df_population_data):\n",
        "    # This line is mandatory and should not be removed.\n",
        "    ex_stat_init = True\n",
        "\n",
        "    # BELOW GOES YOUR CODE\n",
        "    population_indices = df_population_data.index\n",
        "    # ABOVE GOES YOUR CODE\n",
        "    return {\"population_indices\": population_indices}\n",
        "\n",
        "pandas_71()"
      ]
    },
    {
      "cell_type": "code",
      "execution_count": 251,
      "metadata": {
        "id": "bKFUpiCA_6xT",
        "outputId": "54e61e9d-fcf2-4b2e-e28b-2250adfc62cd"
      },
      "outputs": [
        {
          "name": "stdout",
          "output_type": "stream",
          "text": [
            "✅ Great job! Exercise completed successfully.\n"
          ]
        }
      ],
      "source": [
        "# Combine DataFrames `df_financial_2021` and `df_financial_2020` vertically, so that rows from 2021 follow those of 2020, storing result in `combined_financials`.\n",
        "@check_pandas_72\n",
        "def pandas_72(df_financial_2021, df_financial_2020):\n",
        "    # This line is mandatory and should not be removed.\n",
        "    ex_stat_init = True\n",
        "\n",
        "    # BELOW GOES YOUR CODE\n",
        "    combined_financials = pd.concat([df_financial_2020, df_financial_2021])\n",
        "    # ABOVE GOES YOUR CODE\n",
        "    return {\"combined_financials\": combined_financials}\n",
        "\n",
        "pandas_72()"
      ]
    },
    {
      "cell_type": "code",
      "execution_count": 252,
      "metadata": {
        "id": "lAlmStid_6xU",
        "outputId": "b4b63ef1-a2f3-47e1-c4dd-6733dd8b9d79"
      },
      "outputs": [
        {
          "name": "stdout",
          "output_type": "stream",
          "text": [
            "✅ Great job! Exercise completed successfully.\n"
          ]
        }
      ],
      "source": [
        "# Merge DataFrames `df_clients` and `df_orders` with a common key 'ClientID' using the 'inner' join method, and save the result as `client_orders`.\n",
        "@check_pandas_73\n",
        "def pandas_73(df_clients, df_orders):\n",
        "    # This line is mandatory and should not be removed.\n",
        "    ex_stat_init = True\n",
        "\n",
        "    # BELOW GOES YOUR CODE\n",
        "    client_orders = pd.merge(df_clients, df_orders, on=\"ClientID\", how=\"inner\")\n",
        "    # ABOVE GOES YOUR CODE\n",
        "    return {\"client_orders\": client_orders}\n",
        "\n",
        "pandas_73()"
      ]
    },
    {
      "cell_type": "code",
      "execution_count": 253,
      "metadata": {
        "id": "GjvHW0eN_6xU",
        "outputId": "071707bd-b6aa-41ee-d762-59107c248fb9"
      },
      "outputs": [
        {
          "name": "stdout",
          "output_type": "stream",
          "text": [
            "✅ Great job! Exercise completed successfully.\n"
          ]
        }
      ],
      "source": [
        "# From DataFrame `df_commodity_prices`, locate the element where 'Commodity' is 'Gold' and 'PriceDate' is '2023-06-01', storing it in `gold_price`.\n",
        "@check_pandas_74\n",
        "def pandas_74(df_commodity_prices):\n",
        "    # This line is mandatory and should not be removed.\n",
        "    ex_stat_init = True\n",
        "\n",
        "    # BELOW GOES YOUR CODE\n",
        "    gold_price = df_commodity_prices[(df_commodity_prices['Commodity'] == 'Gold') & \n",
        "                                     (df_commodity_prices['PriceDate'] == '2023-06-01')]\n",
        "    # ABOVE GOES YOUR CODE\n",
        "    return {\"gold_price\": gold_price}\n",
        "\n",
        "pandas_74()"
      ]
    },
    {
      "cell_type": "code",
      "execution_count": 254,
      "metadata": {
        "id": "zUBB0abr_6xU",
        "outputId": "2b0ad61e-bda4-4dff-c08d-a1dc07ef0579"
      },
      "outputs": [
        {
          "name": "stdout",
          "output_type": "stream",
          "text": [
            "✅ Great job! Exercise completed successfully.\n"
          ]
        }
      ],
      "source": [
        "# Use boolean indexing on DataFrame `df_sales_performance` to extract rows where 'Quarter' is Q1 and 'Year' >= 2022, saving the result in `performance_q1_2022`.\n",
        "@check_pandas_75\n",
        "def pandas_75(df_sales_performance):\n",
        "    # This line is mandatory and should not be removed.\n",
        "    ex_stat_init = True\n",
        "\n",
        "    # BELOW GOES YOUR CODE\n",
        "    performance_q1_2022 = df_sales_performance[(df_sales_performance['Quarter'] == 'Q1') &\n",
        "                                               (df_sales_performance['Year'] >= 2022)]\n",
        "    # ABOVE GOES YOUR CODE\n",
        "    return {\"performance_q1_2022\": performance_q1_2022}\n",
        "\n",
        "pandas_75()"
      ]
    },
    {
      "cell_type": "code",
      "execution_count": 255,
      "metadata": {
        "id": "R9JI284I_6xU",
        "outputId": "e325bb10-b1e6-490c-f920-bfcb8cecb620"
      },
      "outputs": [
        {
          "name": "stdout",
          "output_type": "stream",
          "text": [
            "✅ Great job! Exercise completed successfully.\n"
          ]
        }
      ],
      "source": [
        "# Slice DataFrame `df_international_customers` to include rows 'France' to 'Italy' using their index labels and save it in `european_customers`.\n",
        "@check_pandas_76\n",
        "def pandas_76(df_international_customers):\n",
        "    # This line is mandatory and should not be removed.\n",
        "    ex_stat_init = True\n",
        "\n",
        "    # BELOW GOES YOUR CODE\n",
        "    european_customers = df_international_customers.loc['France':'Italy']\n",
        "    # ABOVE GOES YOUR CODE\n",
        "    return {\"european_customers\": european_customers}\n",
        "\n",
        "pandas_76()"
      ]
    },
    {
      "cell_type": "code",
      "execution_count": 256,
      "metadata": {
        "id": "5j4fkWJt_6xU",
        "outputId": "27b0c8b8-c500-4f4d-fdc1-6e8ba41dcc8d"
      },
      "outputs": [
        {
          "name": "stdout",
          "output_type": "stream",
          "text": [
            "✅ Great job! Exercise completed successfully.\n"
          ]
        }
      ],
      "source": [
        "# Modify DataFrame `df_shipping_list` by setting the 'CollectionDate' column of all rows before '2023-08-01' to NaT, storing the modified DataFrame as `adjusted_shipping`.\n",
        "@check_pandas_77\n",
        "def pandas_77(df_shipping_list):\n",
        "    # This line is mandatory and should not be removed.\n",
        "    ex_stat_init = True\n",
        "\n",
        "    # BELOW GOES YOUR CODE\n",
        "    df_shipping_list.loc[df_shipping_list['CollectionDate'] < '2023-08-01', 'CollectionDate'] = pd.NaT\n",
        "    adjusted_shipping = df_shipping_list\n",
        "    # ABOVE GOES YOUR CODE\n",
        "    return {\"adjusted_shipping\": adjusted_shipping}\n",
        "\n",
        "pandas_77()"
      ]
    },
    {
      "cell_type": "code",
      "execution_count": 257,
      "metadata": {
        "id": "7Ut3E8Xb_6xV",
        "outputId": "a31b75e7-9b8c-4966-c1c0-4165d5b552ff"
      },
      "outputs": [
        {
          "name": "stdout",
          "output_type": "stream",
          "text": [
            "✅ Great job! Exercise completed successfully.\n"
          ]
        }
      ],
      "source": [
        "# Merge DataFrames `df_employee_roles` and `df_role_salaries` on 'RoleID', performing a left merge and storing result as `employee_salary_details`.\n",
        "@check_pandas_78\n",
        "def pandas_78(df_employee_roles, df_role_salaries):\n",
        "    # This line is mandatory and should not be removed.\n",
        "    ex_stat_init = True\n",
        "\n",
        "    # BELOW GOES YOUR CODE\n",
        "    employee_salary_details = pd.merge(df_employee_roles, df_role_salaries, on=\"RoleID\", how=\"left\")\n",
        "    # ABOVE GOES YOUR CODE\n",
        "    return {\"employee_salary_details\": employee_salary_details}\n",
        "\n",
        "pandas_78()"
      ]
    },
    {
      "cell_type": "code",
      "execution_count": 258,
      "metadata": {
        "id": "LuCgemPj_6xV",
        "outputId": "dbbeb994-a4f8-4f42-d6e2-c50a6460a5ff"
      },
      "outputs": [
        {
          "name": "stdout",
          "output_type": "stream",
          "text": [
            "✅ Great job! Exercise completed successfully.\n"
          ]
        }
      ],
      "source": [
        "# Group DataFrame `df_class_scores` by 'Class' and calculate the maximum 'Score' for each class, saving the result as `max_class_scores`.\n",
        "@check_pandas_79\n",
        "def pandas_79(df_class_scores):\n",
        "    # This line is mandatory and should not be removed.\n",
        "    ex_stat_init = True\n",
        "\n",
        "    # BELOW GOES YOUR CODE\n",
        "    max_class_scores = df_class_scores.groupby('Class')['Score'].max()\n",
        "    # ABOVE GOES YOUR CODE\n",
        "    return {\"max_class_scores\": max_class_scores}\n",
        "\n",
        "pandas_79()"
      ]
    },
    {
      "cell_type": "code",
      "execution_count": 259,
      "metadata": {
        "id": "j4Yx5yFG_6xV",
        "outputId": "4afcfdf5-4832-42f1-da31-acc5175b8bd0"
      },
      "outputs": [
        {
          "name": "stdout",
          "output_type": "stream",
          "text": [
            "✅ Great job! Exercise completed successfully.\n"
          ]
        }
      ],
      "source": [
        "# Pivot DataFrame `df_sales_regions` with 'Region' as rows and 'Quarter' as columns, aggregating 'Sales' values, into `sales_pivot`.\n",
        "@check_pandas_80\n",
        "def pandas_80(df_sales_regions):\n",
        "    # This line is mandatory and should not be removed.\n",
        "    ex_stat_init = True\n",
        "\n",
        "    # BELOW GOES YOUR CODE\n",
        "    sales_pivot = df_sales_regions.pivot_table(index='Region', columns='Quarter', values='Sales', aggfunc='sum')\n",
        "    # ABOVE GOES YOUR CODE\n",
        "    return {\"sales_pivot\": sales_pivot}\n",
        "\n",
        "pandas_80()"
      ]
    },
    {
      "cell_type": "code",
      "execution_count": 260,
      "metadata": {
        "id": "7W4xJGdX_6xV",
        "outputId": "b6272835-3afa-468f-d575-e9efe5081fdb"
      },
      "outputs": [
        {
          "name": "stdout",
          "output_type": "stream",
          "text": [
            "✅ Great job! Exercise completed successfully.\n"
          ]
        }
      ],
      "source": [
        "# Utilize a crosstab of 'CustomerType' and 'Region' from DataFrame `df_customer_data`, storing the result as `customer_region_crosstab`.\n",
        "@check_pandas_81\n",
        "def pandas_81(df_customer_data):\n",
        "    # This line is mandatory and should not be removed.\n",
        "    ex_stat_init = True\n",
        "\n",
        "    # BELOW GOES YOUR CODE\n",
        "    customer_region_crosstab = pd.crosstab(df_customer_data['CustomerType'], df_customer_data['Region'])\n",
        "    # ABOVE GOES YOUR CODE\n",
        "    return {\"customer_region_crosstab\": customer_region_crosstab}\n",
        "\n",
        "pandas_81()"
      ]
    },
    {
      "cell_type": "code",
      "execution_count": 261,
      "metadata": {
        "id": "mHYo7BNa_6xV",
        "outputId": "488dee12-658f-4436-e167-40796dd36c6c"
      },
      "outputs": [
        {
          "name": "stdout",
          "output_type": "stream",
          "text": [
            "✅ Great job! Exercise completed successfully.\n"
          ]
        }
      ],
      "source": [
        "# Reshape DataFrame `df_expenses` to long format, using melt function, resulting in `melted_expenses`.\n",
        "@check_pandas_82\n",
        "def pandas_82(df_expenses):\n",
        "    # This line is mandatory and should not be removed.\n",
        "    ex_stat_init = True\n",
        "\n",
        "    # BELOW GOES YOUR CODE\n",
        "    melted_expenses = pd.melt(df_expenses,id_vars=['Date'],var_name='ExpenseType',value_name='Amount')\n",
        "    # ABOVE GOES YOUR CODE\n",
        "    return {\"melted_expenses\": melted_expenses}\n",
        "\n",
        "pandas_82()"
      ]
    },
    {
      "cell_type": "code",
      "execution_count": 262,
      "metadata": {
        "id": "qZhkljux_6xW",
        "outputId": "58963ea5-8982-4c69-b9de-918df98f747e"
      },
      "outputs": [
        {
          "name": "stdout",
          "output_type": "stream",
          "text": [
            "✅ Great job! Exercise completed successfully.\n"
          ]
        }
      ],
      "source": [
        "# Use a pivot_table on DataFrame `df_contact_events` with 'ContactID' as index, 'EventType' as columns, and 'EventTimestamp' as values, stored in `pivoted_events`.\n",
        "@check_pandas_83\n",
        "def pandas_83(df_contact_events):\n",
        "    # This line is mandatory and should not be removed.\n",
        "    ex_stat_init = True\n",
        "\n",
        "    # BELOW GOES YOUR CODE\n",
        "    pivoted_events = pd.pivot_table(\n",
        "        df_contact_events,\n",
        "        index='ContactID',\n",
        "        columns='EventType',\n",
        "        values='EventTimestamp',\n",
        "        aggfunc='first'  )\n",
        "        # ABOVE GOES YOUR CODE\n",
        "    return {\"pivoted_events\": pivoted_events}\n",
        "\n",
        "pandas_83()"
      ]
    },
    {
      "cell_type": "code",
      "execution_count": 263,
      "metadata": {
        "id": "EXRS6OYq_6xW",
        "outputId": "d6c10a6d-2999-496d-cab1-454757d34b41"
      },
      "outputs": [
        {
          "name": "stdout",
          "output_type": "stream",
          "text": [
            "✅ Great job! Exercise completed successfully.\n"
          ]
        }
      ],
      "source": [
        "# Create DataFrame `df_time_events` using a DateTimeIndex from a 'start' of '2023-01-01', 'end' of '2023-12-31', and a daily frequency.\n",
        "@check_pandas_84\n",
        "def pandas_84():\n",
        "    # This line is mandatory and should not be removed.\n",
        "    ex_stat_init = True\n",
        "\n",
        "    # BELOW GOES YOUR CODE\n",
        "    df_time_events = pd.DataFrame(index=pd.date_range(start='2023-01-01', end='2023-12-31', freq='D'))    # ABOVE GOES YOUR CODE\n",
        "    return {\"df_time_events\": df_time_events}\n",
        "\n",
        "pandas_84()"
      ]
    },
    {
      "cell_type": "code",
      "execution_count": 264,
      "metadata": {
        "id": "SgMBZt4D_6xW",
        "outputId": "7a8f542b-24ea-44d5-a339-bf1bf61c000a"
      },
      "outputs": [
        {
          "name": "stdout",
          "output_type": "stream",
          "text": [
            "✅ Great job! Exercise completed successfully.\n"
          ]
        }
      ],
      "source": [
        "# Convert the time zone of the 'datetime' column in DataFrame `df_events`, from UTC to US/Eastern, storing result as `tz_adjusted_events`.\n",
        "@check_pandas_85\n",
        "def pandas_85(df_events):\n",
        "    # This line is mandatory and should not be removed.\n",
        "    ex_stat_init = True\n",
        "\n",
        "    # BELOW GOES YOUR CODE\n",
        "    df_events['datetime'] = pd.to_datetime(df_events['datetime']).dt.tz_convert('US/Eastern')\n",
        "    tz_adjusted_events = df_events\n",
        "    # ABOVE GOES YOUR CODE\n",
        "    return {\"tz_adjusted_events\": tz_adjusted_events}\n",
        "\n",
        "pandas_85()"
      ]
    },
    {
      "cell_type": "code",
      "execution_count": 265,
      "metadata": {
        "id": "34FnkTAb_6xW",
        "outputId": "4614e410-2d4f-42db-8689-aebff5f67181"
      },
      "outputs": [
        {
          "name": "stdout",
          "output_type": "stream",
          "text": [
            "✅ Great job! Exercise completed successfully.\n"
          ]
        }
      ],
      "source": [
        "# Calculate the weekly rolling sum on DataFrame `df_financial_changes` for 'ChangeAmount', storing the result in `weekly_rolling_sum`.\n",
        "@check_pandas_86\n",
        "def pandas_86(df_financial_changes):\n",
        "    # This line is mandatory and should not be removed.\n",
        "    ex_stat_init = True\n",
        "\n",
        "    # BELOW GOES YOUR CODE\n",
        "    weekly_rolling_sum = df_financial_changes['ChangeAmount'].rolling(window=7).sum()\n",
        "    # ABOVE GOES YOUR CODE\n",
        "    return {\"weekly_rolling_sum\": weekly_rolling_sum}\n",
        "\n",
        "pandas_86()"
      ]
    },
    {
      "cell_type": "code",
      "execution_count": 266,
      "metadata": {
        "id": "6r5e7-Uk_6xW",
        "outputId": "c3910e53-8655-4935-8b00-4662f16e1de9"
      },
      "outputs": [
        {
          "name": "stdout",
          "output_type": "stream",
          "text": [
            "✅ Great job! Exercise completed successfully.\n"
          ]
        }
      ],
      "source": [
        "# Use the apply function along with a custom lambda to multiply the 'Rating' column by 2 in DataFrame `df_movie_ratings`, saving it as `scaled_ratings`.\n",
        "@check_pandas_87\n",
        "def pandas_87(df_movie_ratings):\n",
        "    # This line is mandatory and should not be removed.\n",
        "    ex_stat_init = True\n",
        "\n",
        "    # BELOW GOES YOUR CODE\n",
        "    scaled_ratings = df_movie_ratings.copy()\n",
        "    scaled_ratings['Rating'] = scaled_ratings['Rating'].apply(lambda x: x * 2)    # ABOVE GOES YOUR CODE\n",
        "    return {\"scaled_ratings\": scaled_ratings}\n",
        "\n",
        "pandas_87()"
      ]
    },
    {
      "cell_type": "code",
      "execution_count": 267,
      "metadata": {
        "id": "hydbLClY_6xW",
        "outputId": "005a62e1-312b-49c7-9923-6005c9749382"
      },
      "outputs": [
        {
          "name": "stdout",
          "output_type": "stream",
          "text": [
            "✅ Great job! Exercise completed successfully.\n"
          ]
        }
      ],
      "source": [
        "# Convert DataFrame `df_sequential` column 'Order' from int64 to int16 for memory efficiency, saving result as `optimized_sequential`.\n",
        "@check_pandas_88\n",
        "def pandas_88(df_sequential):\n",
        "    # This line is mandatory and should not be removed.\n",
        "    ex_stat_init = True\n",
        "\n",
        "    # BELOW GOES YOUR CODE\n",
        "    df_sequential['Order'] = df_sequential['Order'].astype('int16')\n",
        "    optimized_sequential = df_sequential\n",
        "    # ABOVE GOES YOUR CODE\n",
        "    return {\"optimized_sequential\": optimized_sequential}\n",
        "\n",
        "pandas_88()"
      ]
    },
    {
      "cell_type": "code",
      "execution_count": 268,
      "metadata": {
        "id": "Ze20ulhI_6xW",
        "outputId": "ca7e08bb-a444-434a-9b7a-6a0a54b957b3"
      },
      "outputs": [
        {
          "name": "stdout",
          "output_type": "stream",
          "text": [
            "✅ Great job! Exercise completed successfully.\n"
          ]
        }
      ],
      "source": [
        "# Remove duplicate entries based on 'Email' in DataFrame `df_email_contacts`, storing deduplicated DataFrame as `unique_email_contacts`.\n",
        "@check_pandas_89\n",
        "def pandas_89(df_email_contacts):\n",
        "    # This line is mandatory and should not be removed.\n",
        "    ex_stat_init = True\n",
        "\n",
        "    # BELOW GOES YOUR CODE\n",
        "    unique_email_contacts = df_email_contacts.drop_duplicates(subset='Email')\n",
        "    # ABOVE GOES YOUR CODE\n",
        "    return {\"unique_email_contacts\": unique_email_contacts}\n",
        "\n",
        "pandas_89()"
      ]
    },
    {
      "cell_type": "code",
      "execution_count": 269,
      "metadata": {
        "id": "3t_W24Bk_6xX",
        "outputId": "750e5b5f-748f-47bc-bc80-ff347b589f97"
      },
      "outputs": [
        {
          "name": "stdout",
          "output_type": "stream",
          "text": [
            "✅ Great job! Exercise completed successfully.\n"
          ]
        }
      ],
      "source": [
        "# Perform string operation by replacing all occurrences of 'Inc.' with 'Incorporated' in the 'Company_Name' column of `df_business_registry`, storing result in `updated_business_registry`.\n",
        "@check_pandas_90\n",
        "def pandas_90(df_business_registry):\n",
        "    # This line is mandatory and should not be removed.\n",
        "    ex_stat_init = True\n",
        "\n",
        "    # BELOW GOES YOUR CODE\n",
        "    df_business_registry['Company_Name'] = df_business_registry['Company_Name'].str.replace('Inc.', 'Incorporated')\n",
        "    updated_business_registry = df_business_registry\n",
        "    # ABOVE GOES YOUR CODE\n",
        "    return {\"updated_business_registry\": updated_business_registry}\n",
        "\n",
        "pandas_90()"
      ]
    },
    {
      "cell_type": "code",
      "execution_count": 270,
      "metadata": {
        "id": "SW2XU9lx_6xX",
        "outputId": "87967f48-9c67-4e1e-b833-53cbba6c2328"
      },
      "outputs": [
        {
          "name": "stdout",
          "output_type": "stream",
          "text": [
            "✅ Great job! Exercise completed successfully.\n"
          ]
        }
      ],
      "source": [
        "# Select entries from DataFrame `df_jobs` with 'Role' ending in 'Engineer' using the query method, saving result as `engineer_roles`.\n",
        "@check_pandas_91\n",
        "def pandas_91(df_jobs):\n",
        "    # This line is mandatory and should not be removed.\n",
        "    ex_stat_init = True\n",
        "\n",
        "    # BELOW GOES YOUR CODE\n",
        "    engineer_roles = df_jobs.query(\"Role.str.endswith('Engineer')\", engine='python')\n",
        "    # ABOVE GOES YOUR CODE\n",
        "    return {\"engineer_roles\": engineer_roles}\n",
        "\n",
        "pandas_91()"
      ]
    },
    {
      "cell_type": "code",
      "execution_count": 271,
      "metadata": {
        "id": "oN3b2uPt_6xX",
        "outputId": "917a13d4-b15a-4367-b7b2-eb8c1032a7f6"
      },
      "outputs": [
        {
          "name": "stdout",
          "output_type": "stream",
          "text": [
            "✅ Great job! Exercise completed successfully.\n"
          ]
        }
      ],
      "source": [
        "# Group DataFrame `df_market_data` by 'Sector' and aggregate 'MarketCap' using the custom function to find the median, saving in `median_market_cap`.\n",
        "@check_pandas_92\n",
        "def pandas_92(df_market_data):\n",
        "    # This line is mandatory and should not be removed.\n",
        "    ex_stat_init = True\n",
        "\n",
        "    # BELOW GOES YOUR CODE\n",
        "    median_market_cap = df_market_data.groupby('Sector')['MarketCap'].median()\n",
        "    # ABOVE GOES YOUR CODE\n",
        "    return {\"median_market_cap\": median_market_cap}\n",
        "\n",
        "pandas_92()"
      ]
    },
    {
      "cell_type": "code",
      "execution_count": 272,
      "metadata": {
        "id": "TEJ9bkvn_6xY",
        "outputId": "b6deb3c4-4861-43ec-8844-47cf1d086abc"
      },
      "outputs": [
        {
          "name": "stdout",
          "output_type": "stream",
          "text": [
            "✅ Great job! Exercise completed successfully.\n"
          ]
        }
      ],
      "source": [
        "# Use vectorized operations on DataFrame `df_portfolio`, to multiply every element in 'Shares' column by its corresponding 'Price', saving the result in `portfolio_value`.\n",
        "@check_pandas_93\n",
        "def pandas_93(df_portfolio):\n",
        "    # This line is mandatory and should not be removed.\n",
        "    ex_stat_init = True\n",
        "\n",
        "    # BELOW GOES YOUR CODE\n",
        "    portfolio_value = df_portfolio['Shares'] * df_portfolio['Price']\n",
        "    # ABOVE GOES YOUR CODE\n",
        "    return {\"portfolio_value\": portfolio_value}\n",
        "\n",
        "pandas_93()"
      ]
    },
    {
      "cell_type": "code",
      "execution_count": 273,
      "metadata": {
        "id": "Wk8rAYo5_6xY",
        "outputId": "3a20112e-777f-4f9b-ad19-77feb71e5694"
      },
      "outputs": [
        {
          "name": "stdout",
          "output_type": "stream",
          "text": [
            "✅ Great job! Exercise completed successfully.\n"
          ]
        }
      ],
      "source": [
        "# Add a 'ProfitMargin' column to DataFrame `df_sales_figures`, calculated as ('Profit' / 'Revenue') * 100 using vectorized operations, saving as `sales_with_margin`.\n",
        "@check_pandas_94\n",
        "def pandas_94(df_sales_figures):\n",
        "    # This line is mandatory and should not be removed.\n",
        "    ex_stat_init = True\n",
        "\n",
        "    # BELOW GOES YOUR CODE\n",
        "    sales_with_margin = df_sales_figures.copy()\n",
        "    sales_with_margin['ProfitMargin'] = (sales_with_margin['Profit'] / sales_with_margin['Revenue']) * 100\n",
        "    # ABOVE GOES YOUR CODE\n",
        "    return {\"sales_with_margin\": sales_with_margin}\n",
        "\n",
        "pandas_94()"
      ]
    },
    {
      "cell_type": "code",
      "execution_count": 274,
      "metadata": {
        "id": "NZWmbqer_6xY",
        "outputId": "c13a8cc7-a1be-4c91-d991-5126cb1ed600"
      },
      "outputs": [
        {
          "name": "stdout",
          "output_type": "stream",
          "text": [
            "✅ Great job! Exercise completed successfully.\n"
          ]
        }
      ],
      "source": [
        "# Sort DataFrame `df_graduates` by 'GPA' in descending order, saving sorted DataFrame as `sorted_graduates`.\n",
        "@check_pandas_95\n",
        "def pandas_95(df_graduates):\n",
        "    # This line is mandatory and should not be removed.\n",
        "    ex_stat_init = True\n",
        "\n",
        "    # BELOW GOES YOUR CODE\n",
        "    sorted_graduates = df_graduates.sort_values(by='GPA', ascending=False)\n",
        "    # ABOVE GOES YOUR CODE\n",
        "    return {\"sorted_graduates\": sorted_graduates}\n",
        "\n",
        "pandas_95()"
      ]
    },
    {
      "cell_type": "code",
      "execution_count": 275,
      "metadata": {
        "id": "vLuVcwvX_6xY",
        "outputId": "8aef39db-b259-4fc9-808a-65f512a3f249"
      },
      "outputs": [
        {
          "name": "stdout",
          "output_type": "stream",
          "text": [
            "✅ Great job! Exercise completed successfully.\n"
          ]
        }
      ],
      "source": [
        "# Filter DataFrame `df_emissions` for 'Country' is 'USA' and 'Year' before 2000 using boolean conditions, saving result as `us_emissions_pre2000`.\n",
        "@check_pandas_96\n",
        "def pandas_96(df_emissions):\n",
        "    # This line is mandatory and should not be removed.\n",
        "    ex_stat_init = True\n",
        "\n",
        "    # BELOW GOES YOUR CODE\n",
        "    us_emissions_pre2000 = df_emissions[(df_emissions['Country'] == 'USA') & \n",
        "                                        (df_emissions['Year'] < 2000)]\n",
        "    # ABOVE GOES YOUR CODE\n",
        "    return {\"us_emissions_pre2000\": us_emissions_pre2000}\n",
        "\n",
        "pandas_96()"
      ]
    },
    {
      "cell_type": "code",
      "execution_count": 276,
      "metadata": {
        "id": "GmDgjsvs_6xZ",
        "outputId": "29e50437-2999-494b-a802-612e97bf63e9"
      },
      "outputs": [
        {
          "name": "stdout",
          "output_type": "stream",
          "text": [
            "✅ Great job! Exercise completed successfully.\n"
          ]
        }
      ],
      "source": [
        "# Calculate the cumulative sum of 'Purchases' in DataFrame `df_shopper_history` grouped by 'Year', storing the result in `yearly_cumulative_purchases`.\n",
        "@check_pandas_97\n",
        "def pandas_97(df_shopper_history):\n",
        "    # This line is mandatory and should not be removed.\n",
        "    ex_stat_init = True\n",
        "\n",
        "    # BELOW GOES YOUR CODE\n",
        "    yearly_cumulative_purchases = df_shopper_history.groupby('Year')['Purchases'].cumsum()\n",
        "    # ABOVE GOES YOUR CODE\n",
        "    return {\"yearly_cumulative_purchases\": yearly_cumulative_purchases}\n",
        "\n",
        "pandas_97()"
      ]
    },
    {
      "cell_type": "code",
      "execution_count": 277,
      "metadata": {
        "id": "LguzRb4P_6xZ",
        "outputId": "1ca7d788-91aa-4a74-93c8-ec8c49d451b9"
      },
      "outputs": [
        {
          "name": "stdout",
          "output_type": "stream",
          "text": [
            "✅ Great job! Exercise completed successfully.\n"
          ]
        }
      ],
      "source": [
        "# Create DataFrame `df_series_fan_following` with integers between 1000 and 5000 equally separated, indexed by monthly dates starting from '2022-01-01', till '2022-05-01', with column name 'Fans' and frequency 'MS'.\n",
        "@check_pandas_98\n",
        "def pandas_98():\n",
        "    # This line is mandatory and should not be removed.\n",
        "    ex_stat_init = True\n",
        "\n",
        "    # BELOW GOES YOUR CODE\n",
        "    dates = pd.date_range(start='2022-01-01', periods=5, freq='MS')\n",
        "\n",
        "    fan_counts = np.linspace(1000, 5000, 5, dtype='int')\n",
        "\n",
        "    df_series_fan_following = pd.DataFrame({\n",
        "        'Fans': fan_counts,\n",
        "        'Date': dates\n",
        "    }).set_index('Date')\n",
        "    # ABOVE GOES YOUR CODE\n",
        "    return {\"df_series_fan_following\": df_series_fan_following}\n",
        "\n",
        "pandas_98()"
      ]
    },
    {
      "cell_type": "code",
      "execution_count": 278,
      "metadata": {
        "id": "XLefCKQJ_6xa",
        "outputId": "971242f5-f24b-4a08-eb67-0c74bf413116"
      },
      "outputs": [
        {
          "name": "stdout",
          "output_type": "stream",
          "text": [
            "✅ Great job! Exercise completed successfully.\n"
          ]
        }
      ],
      "source": [
        "# Calculate difference in 'ClosingPrice' from previous day in DataFrame `df_stock_prices`, storing result as `closing_price_diff`.\n",
        "@check_pandas_99\n",
        "def pandas_99(df_stock_prices):\n",
        "    # This line is mandatory and should not be removed.\n",
        "    ex_stat_init = True\n",
        "\n",
        "    # BELOW GOES YOUR CODE\n",
        "    closing_price_diff = df_stock_prices['ClosingPrice'].diff()\n",
        "    # ABOVE GOES YOUR CODE\n",
        "    return {\"closing_price_diff\": closing_price_diff}\n",
        "\n",
        "pandas_99()"
      ]
    },
    {
      "cell_type": "code",
      "execution_count": 279,
      "metadata": {
        "id": "IIhJ_Ksp_6xa",
        "outputId": "830118ec-d568-48a7-8001-07e1894d756d"
      },
      "outputs": [
        {
          "name": "stdout",
          "output_type": "stream",
          "text": [
            "✅ Great job! Exercise completed successfully.\n"
          ]
        }
      ],
      "source": [
        "# Merge DataFrames `df_social_media_insights` and `df_campaign_performance` on 'CampaignID', using outer method saving result as `merged_campaign_data`.\n",
        "@check_pandas_100\n",
        "def pandas_100(df_social_media_insights, df_campaign_performance):\n",
        "    # This line is mandatory and should not be removed.\n",
        "    ex_stat_init = True\n",
        "\n",
        "    # BELOW GOES YOUR CODE\n",
        "    merged_campaign_data = pd.merge(df_social_media_insights, df_campaign_performance, \n",
        "                                    on='CampaignID', how='outer')\n",
        "    # ABOVE GOES YOUR CODE\n",
        "    return {\"merged_campaign_data\": merged_campaign_data}\n",
        "\n",
        "pandas_100()"
      ]
    }
  ],
  "metadata": {
    "colab": {
      "provenance": []
    },
    "kernelspec": {
      "display_name": "Excalibur",
      "language": "python",
      "name": "python3"
    },
    "language_info": {
      "codemirror_mode": {
        "name": "ipython",
        "version": 3
      },
      "file_extension": ".py",
      "mimetype": "text/x-python",
      "name": "python",
      "nbconvert_exporter": "python",
      "pygments_lexer": "ipython3",
      "version": "3.12.7"
    }
  },
  "nbformat": 4,
  "nbformat_minor": 0
}
